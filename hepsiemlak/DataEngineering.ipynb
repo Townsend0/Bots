{
 "cells": [
  {
   "cell_type": "code",
   "execution_count": 1,
   "metadata": {},
   "outputs": [],
   "source": [
    "from seleniumbase import Driver\n",
    "from selenium.webdriver.common.keys import Keys\n",
    "from selenium.webdriver.common.by import By\n",
    "from time import sleep\n",
    "import pandas as pd"
   ]
  },
  {
   "cell_type": "markdown",
   "metadata": {},
   "source": [
    "The keys are to bypass cloudflare"
   ]
  },
  {
   "cell_type": "code",
   "execution_count": null,
   "metadata": {},
   "outputs": [],
   "source": [
    "driver = Driver(uc = True)\n",
    "driver.get('https://www.hepsiemlak.com/buca-kiralik')\n",
    "driver.switch_to.active_element.send_keys(Keys.TAB)\n",
    "driver.switch_to.active_element.send_keys(Keys.SPACE)"
   ]
  },
  {
   "cell_type": "code",
   "execution_count": 2,
   "metadata": {},
   "outputs": [],
   "source": [
    "df = pd.DataFrame(columns = \n",
    "    [\n",
    "        'date', \n",
    "        'category',\n",
    "        'ad',\n",
    "        'loc', \n",
    "        'floor',\n",
    "        'age', \n",
    "        'rooms',\n",
    "        'gross',\n",
    "        'price'\n",
    "    ]\n",
    ")"
   ]
  },
  {
   "cell_type": "code",
   "execution_count": 3,
   "metadata": {},
   "outputs": [],
   "source": [
    "sleep(1)"
   ]
  },
  {
   "cell_type": "code",
   "execution_count": 4,
   "metadata": {},
   "outputs": [],
   "source": [
    "while True:\n",
    "    houses = driver.find_elements(By.CSS_SELECTOR, '[class*=\"listing-item\"]')\n",
    "    \n",
    "    for house in houses:\n",
    "        details = house.text.split('\\n')\n",
    "        price = details[1]\n",
    "        date = details[3]\n",
    "        category = ' '.join(details[4].split()[1:])\n",
    "        rooms = details[5]\n",
    "        gross = details[6]\n",
    "        age = details[7]\n",
    "        floor = house.find_element(By.CSS_SELECTOR, '[class*=\"floor\"]').text\n",
    "        loc = house.find_element(By.CSS_SELECTOR, '.list-view-location span[data-v-514bf065]').text\n",
    "        ad = house.find_element(By.CSS_SELECTOR, 'h3[data-v-514bf065]').text\n",
    "        \n",
    "        df = pd.concat(\n",
    "            [\n",
    "                df, \n",
    "                pd.DataFrame(\n",
    "                    dict(\n",
    "                        date = [date],\n",
    "                        ad = [ad],\n",
    "                        category = [category],\n",
    "                        loc = [loc],\n",
    "                        floor = [floor],\n",
    "                        age = [age],\n",
    "                        rooms = [rooms],\n",
    "                        gross = [gross],\n",
    "                        price = [price]\n",
    "                    )\n",
    "                )\n",
    "            ], ignore_index = True\n",
    "        )        \n",
    "        \n",
    "    button = driver.find_element(By.LINK_TEXT, 'Sonraki Sayfa')\n",
    "    try:\n",
    "        button.click()\n",
    "    except:\n",
    "        break"
   ]
  },
  {
   "cell_type": "code",
   "execution_count": 17,
   "metadata": {},
   "outputs": [],
   "source": [
    "df.to_csv('hepsiemlak.csv', index = False)"
   ]
  }
 ],
 "metadata": {
  "kernelspec": {
   "display_name": "Python 3",
   "language": "python",
   "name": "python3"
  },
  "language_info": {
   "codemirror_mode": {
    "name": "ipython",
    "version": 3
   },
   "file_extension": ".py",
   "mimetype": "text/x-python",
   "name": "python",
   "nbconvert_exporter": "python",
   "pygments_lexer": "ipython3",
   "version": "3.13.0"
  }
 },
 "nbformat": 4,
 "nbformat_minor": 2
}
