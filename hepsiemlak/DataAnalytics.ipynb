{
 "cells": [
  {
   "cell_type": "markdown",
   "metadata": {},
   "source": [
    "Importing libraries"
   ]
  },
  {
   "cell_type": "code",
   "execution_count": 261,
   "metadata": {},
   "outputs": [],
   "source": [
    "import pandas as pd"
   ]
  },
  {
   "cell_type": "markdown",
   "metadata": {},
   "source": [
    "Reading the csv file"
   ]
  },
  {
   "cell_type": "code",
   "execution_count": 262,
   "metadata": {},
   "outputs": [],
   "source": [
    "df = pd.read_csv('hepsiemlak.csv')"
   ]
  },
  {
   "cell_type": "markdown",
   "metadata": {},
   "source": [
    "Data cleaning"
   ]
  },
  {
   "cell_type": "code",
   "execution_count": 263,
   "metadata": {},
   "outputs": [
    {
     "name": "stdout",
     "output_type": "stream",
     "text": [
      "Before: İzmir / Buca / Menderes Mah.\tAfter: Menderes\n"
     ]
    }
   ],
   "source": [
    "print(f'Before: {df['loc'].iloc[0]}\\tAfter: {df['loc'].iloc[0].split()[-2]}')\n",
    "df['loc'] = df['loc'].apply(lambda x: x.split()[-2])"
   ]
  },
  {
   "cell_type": "code",
   "execution_count": 264,
   "metadata": {},
   "outputs": [
    {
     "name": "stdout",
     "output_type": "stream",
     "text": [
      "Before: 20.000\tAfter: 20000\n"
     ]
    }
   ],
   "source": [
    "print(f'Before: {df['price'].iloc[0]}\\tAfter: {df['price'].iloc[0].replace('.', '')}')\n",
    "df['price'] = df['price'].str.replace('.', '').astype(int)"
   ]
  },
  {
   "cell_type": "code",
   "execution_count": 265,
   "metadata": {},
   "outputs": [
    {
     "name": "stdout",
     "output_type": "stream",
     "text": [
      "Before: 130 m²\tAfter: 130\n"
     ]
    }
   ],
   "source": [
    "print(f'Before: {df['gross'].iloc[0]}\\tAfter: {df['gross'].iloc[0].split()[0]}')\n",
    "df['gross'] = df['gross'].str.split().str[0].astype(int)"
   ]
  },
  {
   "cell_type": "code",
   "execution_count": 266,
   "metadata": {},
   "outputs": [
    {
     "name": "stdout",
     "output_type": "stream",
     "text": [
      "Before:\t\t\tAfter:\n",
      "rooms: 4 + 1\t\trooms: 4  Salons:  1\n",
      "\n",
      "Uniques before: ['4 + 1' '1 + 1' 'Stüdyo' '2 + 1' '3 + 1' '2 + 0' '1 + 2' '11 + 18'\n",
      " '3 + 11' '2 + 2']\n",
      "\n",
      "Uniques after: ['4 + 1' '1 + 1' '1 + 0' '2 + 1' '3 + 1' '2 + 0' '1 + 2' '11 + 18'\n",
      " '3 + 11' '2 + 2']\n"
     ]
    }
   ],
   "source": [
    "print(f'Before:\\t\\t\\tAfter:\\nrooms: {df['rooms'].iloc[0]}\\t\\trooms: {df['rooms'].iloc[0].split('+')[0]} Salons: {df['rooms'].iloc[0].split('+')[1]}\\n\\nUniques before: {df['rooms'].unique()}\\n\\nUniques after: {df['rooms'].str.replace('Stüdyo', '1 + 0').unique()}')\n",
    "\n",
    "df.loc[df['rooms'] == 'Stüdyo', 'rooms'] = '1 + 0'\n",
    "df['salons'] = df['rooms'].str.split('+').str[1].astype(int)\n",
    "df['rooms'] = df['rooms'].str.split('+').str[0].astype(int)"
   ]
  },
  {
   "cell_type": "code",
   "execution_count": 267,
   "metadata": {},
   "outputs": [
    {
     "name": "stdout",
     "output_type": "stream",
     "text": [
      "Before: 25 Yaşında\tAfter: 25\n"
     ]
    }
   ],
   "source": [
    "print(f'Before: {df['age'].iloc[0]}\\tAfter: {df['age'].iloc[0].replace('Sıfır', '0').split()[0]}')\n",
    "df['age'] = df['age'].str.replace('Sıfır', '0').str.split().str[0].astype(int)"
   ]
  },
  {
   "cell_type": "code",
   "execution_count": 268,
   "metadata": {},
   "outputs": [
    {
     "name": "stdout",
     "output_type": "stream",
     "text": [
      "Before: ['2. Kat' 'Ara Kat' 'En Üst Kat' '4. Kat' '12. Kat' 'Yüksek Giriş'\n",
      " '3. Kat' '1. Kat' nan 'Yarı Bodrum' '10. Kat' 'Zemin' '5. Kat' 'Kot 1'\n",
      " 'Giriş Katı' 'Çatı Katı' 'Bahçe Katı' 'Kot 2' '6. Kat' '7. Kat' '8. Kat'\n",
      " 'Teras Katı' '9. Kat']\n",
      "\n",
      "After: [ 2.    0.5  15.    4.    1.    0.75  3.   -1.   -0.5   0.    5.    0.25\n",
      "  6.    7.    8.   20.    9.  ]\n"
     ]
    }
   ],
   "source": [
    "temp = df['floor'].unique()\n",
    "df['floor'] = df['floor'].replace('Giriş Katı', 0.0)\n",
    "df['floor'] = df['floor'].replace('Ara Kat', 0.5)\n",
    "df['floor'] = df['floor'].replace('En Üst Kat', 15.0)\n",
    "df['floor'] = df['floor'].replace('Yüksek Giriş', 0.75)\n",
    "df['floor'] = df['floor'].replace('Yarı Bodrum', -0.5)\n",
    "df['floor'] = df['floor'].replace('Zemin', 0.0)\n",
    "df['floor'] = df['floor'].replace('Kot 1', 1.0)\n",
    "df['floor'] = df['floor'].replace('Kot 2', 2.0)\n",
    "df['floor'] = df['floor'].replace('Çatı Katı', 15.0)\n",
    "df['floor'] = df['floor'].replace('Bahçe Katı', 0.25)\n",
    "df['floor'] = df['floor'].replace('Teras Katı', 20.0)\n",
    "df['floor'] = df['floor'].fillna(-1)\n",
    "\n",
    "temp1 = df['floor'].str.contains('. Kat')\n",
    "df.loc[temp1 == True, 'floor'] = df.loc[temp1 == True, 'floor'].str[0]\n",
    "df['floor'] = df['floor'].astype(float)\n",
    "\n",
    "print(f'Before: {temp}\\n\\nAfter: {df['floor'].unique()}')"
   ]
  },
  {
   "cell_type": "markdown",
   "metadata": {},
   "source": [
    "Calculating the number of days the house listing has been active."
   ]
  },
  {
   "cell_type": "code",
   "execution_count": 269,
   "metadata": {},
   "outputs": [],
   "source": [
    "df['date'] = pd.to_datetime(df['date'], format = '%d-%m-%Y')\n",
    "df['days'] = (pd.Timestamp.now() - df['date']).dt.days"
   ]
  },
  {
   "cell_type": "markdown",
   "metadata": {},
   "source": [
    "Separating the dependent variable from the independent variables"
   ]
  },
  {
   "cell_type": "code",
   "execution_count": 270,
   "metadata": {},
   "outputs": [],
   "source": [
    "X = pd.get_dummies(df.drop(columns = ['price', 'date', 'ad']))\n",
    "y = df['price']"
   ]
  },
  {
   "cell_type": "markdown",
   "metadata": {},
   "source": [
    "Doing simple regression using cross-validation"
   ]
  },
  {
   "cell_type": "code",
   "execution_count": 271,
   "metadata": {},
   "outputs": [
    {
     "data": {
      "text/plain": [
       "np.float64(-1.8558114953948661)"
      ]
     },
     "execution_count": 271,
     "metadata": {},
     "output_type": "execute_result"
    }
   ],
   "source": [
    "from lightgbm import LGBMRegressor\n",
    "from sklearn.model_selection import cross_val_score\n",
    "from sklearn.metrics import r2_score\n",
    "from sklearn.preprocessing import LabelEncoder\n",
    "\n",
    "le = LabelEncoder()\n",
    "lgbm = LGBMRegressor(verbose = -1, learning_rate = 0.01, eval_metric = 'r2')\n",
    "\n",
    "cross_val_score(lgbm, X, y, cv = 10, scoring = 'r2').mean()"
   ]
  },
  {
   "cell_type": "markdown",
   "metadata": {},
   "source": [
    "Preparing data for plotting"
   ]
  },
  {
   "cell_type": "code",
   "execution_count": 272,
   "metadata": {},
   "outputs": [],
   "source": [
    "import seaborn as sns\n",
    "import matplotlib.pyplot as plt\n",
    "import plotly.express as px\n",
    "\n",
    "sns.set_style('darkgrid')\n",
    "\n",
    "df.drop(columns = 'ad', inplace = True)\n",
    "df = df.reindex(columns=['price', 'category', 'gross', 'rooms', 'salons', 'age', 'floor', 'days', 'loc', 'date'])"
   ]
  },
  {
   "cell_type": "markdown",
   "metadata": {},
   "source": [
    "Plots that shows correlation between the features"
   ]
  },
  {
   "cell_type": "code",
   "execution_count": 273,
   "metadata": {},
   "outputs": [
    {
     "data": {
      "image/png": "[encoded data removed]",
      "text/plain": [
       "<Figure size 1500x2000 with 8 Axes>"
      ]
     },
     "metadata": {},
     "output_type": "display_data"
    }
   ],
   "source": [
    "fig, axs = plt.subplots(4, 2, figsize = (15, 20))\n",
    "        \n",
    "for i in range(4):\n",
    "    for j in range(2):\n",
    "        sns.lineplot(x = df.iloc[:, i * 2 + j], y = df['price'], ax = axs[i, j])"
   ]
  },
  {
   "cell_type": "code",
   "execution_count": 274,
   "metadata": {},
   "outputs": [
    {
     "data": {
      "application/vnd.plotly.v1+json": {
       "config": {
        "plotlyServerURL": "https://plot.ly"
       },
       "data": [
        {
         "alignmentgroup": "True",
         "hovertemplate": "loc=%{x}<br>price=%{y}<extra></extra>",
         "legendgroup": "Kozağaç",
         "marker": {
          "color": "#636efa",
          "pattern": {
           "shape": ""
          }
         },
         "name": "Kozağaç",
         "offsetgroup": "Kozağaç",
         "orientation": "v",
         "showlegend": true,
         "textposition": "auto",
         "type": "bar",
         "x": [
          "Kozağaç",
          "Kozağaç",
          "Kozağaç",
          "Kozağaç",
          "Kozağaç",
          "Kozağaç",
          "Kozağaç",
          "Kozağaç",
          "Kozağaç",
          "Kozağaç",
          "Kozağaç",
          "Kozağaç",
          "Kozağaç",
          "Kozağaç"
         ],
         "xaxis": "x",
         "y": [
          17500,
          15000,
          16000,
          15500,
          15000,
          18000,
          18000,
          15000,
          18000,
          13500,
          16000,
          15500,
          13000,
          15000
         ],
         "yaxis": "y"
        },
        {
         "alignmentgroup": "True",
         "hovertemplate": "loc=%{x}<br>price=%{y}<extra></extra>",
         "legendgroup": "Atatürk",
         "marker": {
          "color": "#EF553B",
          "pattern": {
           "shape": ""
          }
         },
         "name": "Atatürk",
         "offsetgroup": "Atatürk",
         "orientation": "v",
         "showlegend": true,
         "textposition": "auto",
         "type": "bar",
         "x": [
          "Atatürk",
          "Atatürk",
          "Atatürk",
          "Atatürk",
          "Atatürk",
          "Atatürk",
          "Atatürk",
          "Atatürk",
          "Atatürk",
          "Atatürk",
          "Atatürk",
          "Atatürk",
          "Atatürk",
          "Atatürk",
          "Atatürk",
          "Atatürk",
          "Atatürk",
          "Atatürk",
          "Atatürk",
          "Atatürk",
          "Atatürk",
          "Atatürk",
          "Atatürk",
          "Atatürk",
          "Atatürk",
          "Atatürk",
          "Atatürk",
          "Atatürk",
          "Atatürk",
          "Atatürk",
          "Atatürk",
          "Atatürk",
          "Atatürk",
          "Atatürk",
          "Atatürk",
          "Atatürk",
          "Atatürk",
          "Atatürk",
          "Atatürk",
          "Atatürk",
          "Atatürk",
          "Atatürk",
          "Atatürk",
          "Atatürk",
          "Atatürk",
          "Atatürk",
          "Atatürk",
          "Atatürk",
          "Atatürk",
          "Atatürk",
          "Atatürk",
          "Atatürk",
          "Atatürk",
          "Atatürk",
          "Atatürk",
          "Atatürk",
          "Atatürk",
          "Atatürk",
          "Atatürk",
          "Atatürk",
          "Atatürk",
          "Atatürk",
          "Atatürk",
          "Atatürk",
          "Atatürk",
          "Atatürk",
          "Atatürk",
          "Atatürk"
         ],
         "xaxis": "x",
         "y": [
          18500,
          12500,
          15500,
          16500,
          14500,
          13000,
          13500,
          12500,
          17000,
          10000,
          13000,
          17500,
          18500,
          13000,
          18000,
          15750,
          15500,
          17000,
          19000,
          13500,
          16000,
          18000,
          14150,
          19000,
          13750,
          21000,
          14000,
          16500,
          15500,
          18000,
          16750,
          12000,
          14000,
          16500,
          18000,
          17000,
          15000,
          15000,
          15500,
          12500,
          11000,
          13000,
          10000,
          17000,
          13500,
          15000,
          14000,
          14000,
          15000,
          13750,
          16000,
          16000,
          14500,
          20000,
          16500,
          13000,
          15000,
          15000,
          13000,
          16000,
          16000,
          13000,
          15000,
          15000,
          16000,
          9500,
          15000,
          15000
         ],
         "yaxis": "y"
        },
        {
         "alignmentgroup": "True",
         "hovertemplate": "loc=%{x}<br>price=%{y}<extra></extra>",
         "legendgroup": "Adatepe",
         "marker": {
          "color": "#00cc96",
          "pattern": {
           "shape": ""
          }
         },
         "name": "Adatepe",
         "offsetgroup": "Adatepe",
         "orientation": "v",
         "showlegend": true,
         "textposition": "auto",
         "type": "bar",
         "x": [
          "Adatepe",
          "Adatepe",
          "Adatepe",
          "Adatepe",
          "Adatepe",
          "Adatepe",
          "Adatepe",
          "Adatepe",
          "Adatepe",
          "Adatepe",
          "Adatepe",
          "Adatepe",
          "Adatepe",
          "Adatepe",
          "Adatepe",
          "Adatepe",
          "Adatepe",
          "Adatepe",
          "Adatepe",
          "Adatepe",
          "Adatepe",
          "Adatepe",
          "Adatepe",
          "Adatepe",
          "Adatepe",
          "Adatepe",
          "Adatepe",
          "Adatepe",
          "Adatepe",
          "Adatepe",
          "Adatepe",
          "Adatepe",
          "Adatepe",
          "Adatepe",
          "Adatepe",
          "Adatepe",
          "Adatepe",
          "Adatepe",
          "Adatepe",
          "Adatepe",
          "Adatepe",
          "Adatepe",
          "Adatepe"
         ],
         "xaxis": "x",
         "y": [
          17000,
          16000,
          16000,
          12500,
          12000,
          20500,
          15000,
          14200,
          18000,
          15000,
          12000,
          13000,
          16000,
          16000,
          15000,
          13000,
          13500,
          13000,
          23000,
          15500,
          16000,
          14000,
          15500,
          13500,
          17000,
          20000,
          15000,
          14000,
          12000,
          16000,
          14000,
          15000,
          15000,
          14500,
          17000,
          19000,
          15500,
          13000,
          14000,
          13000,
          12500,
          13500,
          15000
         ],
         "yaxis": "y"
        },
        {
         "alignmentgroup": "True",
         "hovertemplate": "loc=%{x}<br>price=%{y}<extra></extra>",
         "legendgroup": "Laleli",
         "marker": {
          "color": "#ab63fa",
          "pattern": {
           "shape": ""
          }
         },
         "name": "Laleli",
         "offsetgroup": "Laleli",
         "orientation": "v",
         "showlegend": true,
         "textposition": "auto",
         "type": "bar",
         "x": [
          "Laleli"
         ],
         "xaxis": "x",
         "y": [
          15000
         ],
         "yaxis": "y"
        },
        {
         "alignmentgroup": "True",
         "hovertemplate": "loc=%{x}<br>price=%{y}<extra></extra>",
         "legendgroup": "Hürriyet",
         "marker": {
          "color": "#FFA15A",
          "pattern": {
           "shape": ""
          }
         },
         "name": "Hürriyet",
         "offsetgroup": "Hürriyet",
         "orientation": "v",
         "showlegend": true,
         "textposition": "auto",
         "type": "bar",
         "x": [
          "Hürriyet",
          "Hürriyet",
          "Hürriyet",
          "Hürriyet",
          "Hürriyet"
         ],
         "xaxis": "x",
         "y": [
          17000,
          20000,
          17000,
          19500,
          10000
         ],
         "yaxis": "y"
        },
        {
         "alignmentgroup": "True",
         "hovertemplate": "loc=%{x}<br>price=%{y}<extra></extra>",
         "legendgroup": "Kuruçeşme",
         "marker": {
          "color": "#19d3f3",
          "pattern": {
           "shape": ""
          }
         },
         "name": "Kuruçeşme",
         "offsetgroup": "Kuruçeşme",
         "orientation": "v",
         "showlegend": true,
         "textposition": "auto",
         "type": "bar",
         "x": [
          "Kuruçeşme",
          "Kuruçeşme",
          "Kuruçeşme",
          "Kuruçeşme",
          "Kuruçeşme",
          "Kuruçeşme",
          "Kuruçeşme",
          "Kuruçeşme",
          "Kuruçeşme",
          "Kuruçeşme",
          "Kuruçeşme",
          "Kuruçeşme",
          "Kuruçeşme",
          "Kuruçeşme",
          "Kuruçeşme",
          "Kuruçeşme",
          "Kuruçeşme",
          "Kuruçeşme",
          "Kuruçeşme",
          "Kuruçeşme",
          "Kuruçeşme",
          "Kuruçeşme",
          "Kuruçeşme",
          "Kuruçeşme",
          "Kuruçeşme",
          "Kuruçeşme",
          "Kuruçeşme",
          "Kuruçeşme",
          "Kuruçeşme",
          "Kuruçeşme",
          "Kuruçeşme",
          "Kuruçeşme",
          "Kuruçeşme",
          "Kuruçeşme",
          "Kuruçeşme",
          "Kuruçeşme",
          "Kuruçeşme",
          "Kuruçeşme",
          "Kuruçeşme",
          "Kuruçeşme",
          "Kuruçeşme",
          "Kuruçeşme",
          "Kuruçeşme",
          "Kuruçeşme",
          "Kuruçeşme",
          "Kuruçeşme",
          "Kuruçeşme",
          "Kuruçeşme",
          "Kuruçeşme",
          "Kuruçeşme",
          "Kuruçeşme",
          "Kuruçeşme",
          "Kuruçeşme",
          "Kuruçeşme",
          "Kuruçeşme",
          "Kuruçeşme",
          "Kuruçeşme",
          "Kuruçeşme",
          "Kuruçeşme",
          "Kuruçeşme",
          "Kuruçeşme",
          "Kuruçeşme",
          "Kuruçeşme",
          "Kuruçeşme",
          "Kuruçeşme",
          "Kuruçeşme",
          "Kuruçeşme",
          "Kuruçeşme"
         ],
         "xaxis": "x",
         "y": [
          16000,
          18000,
          16000,
          15000,
          15000,
          21000,
          15000,
          16000,
          18000,
          12500,
          15500,
          16500,
          20000,
          16000,
          18000,
          13000,
          11000,
          13500,
          14000,
          15000,
          22000,
          15000,
          21000,
          22000,
          15000,
          15500,
          18500,
          15500,
          16500,
          16000,
          15500,
          17000,
          15000,
          17250,
          10000,
          11500,
          14000,
          17000,
          17000,
          17000,
          14000,
          15000,
          15000,
          16000,
          13500,
          16000,
          19000,
          15000,
          16000,
          16000,
          17500,
          15750,
          16000,
          15000,
          16500,
          16000,
          15000,
          14000,
          12500,
          15000,
          14500,
          16000,
          15000,
          13000,
          15000,
          14000,
          13000,
          16000
         ],
         "yaxis": "y"
        },
        {
         "alignmentgroup": "True",
         "hovertemplate": "loc=%{x}<br>price=%{y}<extra></extra>",
         "legendgroup": "Koop.",
         "marker": {
          "color": "#FF6692",
          "pattern": {
           "shape": ""
          }
         },
         "name": "Koop.",
         "offsetgroup": "Koop.",
         "orientation": "v",
         "showlegend": true,
         "textposition": "auto",
         "type": "bar",
         "x": [
          "Koop.",
          "Koop."
         ],
         "xaxis": "x",
         "y": [
          16000,
          25000
         ],
         "yaxis": "y"
        },
        {
         "alignmentgroup": "True",
         "hovertemplate": "loc=%{x}<br>price=%{y}<extra></extra>",
         "legendgroup": "Yıldız",
         "marker": {
          "color": "#B6E880",
          "pattern": {
           "shape": ""
          }
         },
         "name": "Yıldız",
         "offsetgroup": "Yıldız",
         "orientation": "v",
         "showlegend": true,
         "textposition": "auto",
         "type": "bar",
         "x": [
          "Yıldız",
          "Yıldız",
          "Yıldız",
          "Yıldız",
          "Yıldız",
          "Yıldız",
          "Yıldız",
          "Yıldız",
          "Yıldız",
          "Yıldız",
          "Yıldız",
          "Yıldız",
          "Yıldız",
          "Yıldız",
          "Yıldız",
          "Yıldız",
          "Yıldız"
         ],
         "xaxis": "x",
         "y": [
          14000,
          13000,
          11000,
          12999,
          16000,
          12000,
          16000,
          12000,
          19000,
          4500,
          15000,
          16500,
          17500,
          13000,
          16500,
          13000,
          13000
         ],
         "yaxis": "y"
        },
        {
         "alignmentgroup": "True",
         "hovertemplate": "loc=%{x}<br>price=%{y}<extra></extra>",
         "legendgroup": "Yaylacık",
         "marker": {
          "color": "#FF97FF",
          "pattern": {
           "shape": ""
          }
         },
         "name": "Yaylacık",
         "offsetgroup": "Yaylacık",
         "orientation": "v",
         "showlegend": true,
         "textposition": "auto",
         "type": "bar",
         "x": [
          "Yaylacık",
          "Yaylacık",
          "Yaylacık",
          "Yaylacık",
          "Yaylacık",
          "Yaylacık",
          "Yaylacık",
          "Yaylacık",
          "Yaylacık",
          "Yaylacık",
          "Yaylacık",
          "Yaylacık",
          "Yaylacık",
          "Yaylacık",
          "Yaylacık",
          "Yaylacık"
         ],
         "xaxis": "x",
         "y": [
          19000,
          13000,
          15000,
          18000,
          13500,
          15000,
          12000,
          16000,
          15000,
          13000,
          17000,
          18000,
          14000,
          12500,
          19000,
          16000
         ],
         "yaxis": "y"
        },
        {
         "alignmentgroup": "True",
         "hovertemplate": "loc=%{x}<br>price=%{y}<extra></extra>",
         "legendgroup": "Dumlupınar",
         "marker": {
          "color": "#FECB52",
          "pattern": {
           "shape": ""
          }
         },
         "name": "Dumlupınar",
         "offsetgroup": "Dumlupınar",
         "orientation": "v",
         "showlegend": true,
         "textposition": "auto",
         "type": "bar",
         "x": [
          "Dumlupınar",
          "Dumlupınar"
         ],
         "xaxis": "x",
         "y": [
          19500,
          14000
         ],
         "yaxis": "y"
        },
        {
         "alignmentgroup": "True",
         "hovertemplate": "loc=%{x}<br>price=%{y}<extra></extra>",
         "legendgroup": "Menderes",
         "marker": {
          "color": "#636efa",
          "pattern": {
           "shape": ""
          }
         },
         "name": "Menderes",
         "offsetgroup": "Menderes",
         "orientation": "v",
         "showlegend": true,
         "textposition": "auto",
         "type": "bar",
         "x": [
          "Menderes",
          "Menderes",
          "Menderes",
          "Menderes"
         ],
         "xaxis": "x",
         "y": [
          13000,
          22500,
          15000,
          12000
         ],
         "yaxis": "y"
        },
        {
         "alignmentgroup": "True",
         "hovertemplate": "loc=%{x}<br>price=%{y}<extra></extra>",
         "legendgroup": "Çaldıran",
         "marker": {
          "color": "#EF553B",
          "pattern": {
           "shape": ""
          }
         },
         "name": "Çaldıran",
         "offsetgroup": "Çaldıran",
         "orientation": "v",
         "showlegend": true,
         "textposition": "auto",
         "type": "bar",
         "x": [
          "Çaldıran",
          "Çaldıran"
         ],
         "xaxis": "x",
         "y": [
          11500,
          10000
         ],
         "yaxis": "y"
        },
        {
         "alignmentgroup": "True",
         "hovertemplate": "loc=%{x}<br>price=%{y}<extra></extra>",
         "legendgroup": "Dicle",
         "marker": {
          "color": "#00cc96",
          "pattern": {
           "shape": ""
          }
         },
         "name": "Dicle",
         "offsetgroup": "Dicle",
         "orientation": "v",
         "showlegend": true,
         "textposition": "auto",
         "type": "bar",
         "x": [
          "Dicle",
          "Dicle"
         ],
         "xaxis": "x",
         "y": [
          18000,
          20000
         ],
         "yaxis": "y"
        },
        {
         "alignmentgroup": "True",
         "hovertemplate": "loc=%{x}<br>price=%{y}<extra></extra>",
         "legendgroup": "Çamlıkule",
         "marker": {
          "color": "#ab63fa",
          "pattern": {
           "shape": ""
          }
         },
         "name": "Çamlıkule",
         "offsetgroup": "Çamlıkule",
         "orientation": "v",
         "showlegend": true,
         "textposition": "auto",
         "type": "bar",
         "x": [
          "Çamlıkule",
          "Çamlıkule",
          "Çamlıkule"
         ],
         "xaxis": "x",
         "y": [
          18000,
          16000,
          17500
         ],
         "yaxis": "y"
        },
        {
         "alignmentgroup": "True",
         "hovertemplate": "loc=%{x}<br>price=%{y}<extra></extra>",
         "legendgroup": "Gaziler",
         "marker": {
          "color": "#FFA15A",
          "pattern": {
           "shape": ""
          }
         },
         "name": "Gaziler",
         "offsetgroup": "Gaziler",
         "orientation": "v",
         "showlegend": true,
         "textposition": "auto",
         "type": "bar",
         "x": [
          "Gaziler"
         ],
         "xaxis": "x",
         "y": [
          17000
         ],
         "yaxis": "y"
        },
        {
         "alignmentgroup": "True",
         "hovertemplate": "loc=%{x}<br>price=%{y}<extra></extra>",
         "legendgroup": "İnönü",
         "marker": {
          "color": "#19d3f3",
          "pattern": {
           "shape": ""
          }
         },
         "name": "İnönü",
         "offsetgroup": "İnönü",
         "orientation": "v",
         "showlegend": true,
         "textposition": "auto",
         "type": "bar",
         "x": [
          "İnönü",
          "İnönü"
         ],
         "xaxis": "x",
         "y": [
          13000,
          12000
         ],
         "yaxis": "y"
        },
        {
         "alignmentgroup": "True",
         "hovertemplate": "loc=%{x}<br>price=%{y}<extra></extra>",
         "legendgroup": "Ufuk",
         "marker": {
          "color": "#FF6692",
          "pattern": {
           "shape": ""
          }
         },
         "name": "Ufuk",
         "offsetgroup": "Ufuk",
         "orientation": "v",
         "showlegend": true,
         "textposition": "auto",
         "type": "bar",
         "x": [
          "Ufuk",
          "Ufuk"
         ],
         "xaxis": "x",
         "y": [
          10000,
          18500
         ],
         "yaxis": "y"
        },
        {
         "alignmentgroup": "True",
         "hovertemplate": "loc=%{x}<br>price=%{y}<extra></extra>",
         "legendgroup": "Barış",
         "marker": {
          "color": "#B6E880",
          "pattern": {
           "shape": ""
          }
         },
         "name": "Barış",
         "offsetgroup": "Barış",
         "orientation": "v",
         "showlegend": true,
         "textposition": "auto",
         "type": "bar",
         "x": [
          "Barış",
          "Barış"
         ],
         "xaxis": "x",
         "y": [
          15000,
          20000
         ],
         "yaxis": "y"
        },
        {
         "alignmentgroup": "True",
         "hovertemplate": "loc=%{x}<br>price=%{y}<extra></extra>",
         "legendgroup": "Akıncılar",
         "marker": {
          "color": "#FF97FF",
          "pattern": {
           "shape": ""
          }
         },
         "name": "Akıncılar",
         "offsetgroup": "Akıncılar",
         "orientation": "v",
         "showlegend": true,
         "textposition": "auto",
         "type": "bar",
         "x": [
          "Akıncılar"
         ],
         "xaxis": "x",
         "y": [
          17000
         ],
         "yaxis": "y"
        },
        {
         "alignmentgroup": "True",
         "hovertemplate": "loc=%{x}<br>price=%{y}<extra></extra>",
         "legendgroup": "İnkılap",
         "marker": {
          "color": "#FECB52",
          "pattern": {
           "shape": ""
          }
         },
         "name": "İnkılap",
         "offsetgroup": "İnkılap",
         "orientation": "v",
         "showlegend": true,
         "textposition": "auto",
         "type": "bar",
         "x": [
          "İnkılap"
         ],
         "xaxis": "x",
         "y": [
          15000
         ],
         "yaxis": "y"
        },
        {
         "alignmentgroup": "True",
         "hovertemplate": "loc=%{x}<br>price=%{y}<extra></extra>",
         "legendgroup": "Bey",
         "marker": {
          "color": "#636efa",
          "pattern": {
           "shape": ""
          }
         },
         "name": "Bey",
         "offsetgroup": "Bey",
         "orientation": "v",
         "showlegend": true,
         "textposition": "auto",
         "type": "bar",
         "x": [
          "Bey"
         ],
         "xaxis": "x",
         "y": [
          22000
         ],
         "yaxis": "y"
        },
        {
         "alignmentgroup": "True",
         "hovertemplate": "loc=%{x}<br>price=%{y}<extra></extra>",
         "legendgroup": "Efeler",
         "marker": {
          "color": "#EF553B",
          "pattern": {
           "shape": ""
          }
         },
         "name": "Efeler",
         "offsetgroup": "Efeler",
         "orientation": "v",
         "showlegend": true,
         "textposition": "auto",
         "type": "bar",
         "x": [
          "Efeler",
          "Efeler",
          "Efeler"
         ],
         "xaxis": "x",
         "y": [
          17000,
          25000,
          14500
         ],
         "yaxis": "y"
        },
        {
         "alignmentgroup": "True",
         "hovertemplate": "loc=%{x}<br>price=%{y}<extra></extra>",
         "legendgroup": "Kemal",
         "marker": {
          "color": "#00cc96",
          "pattern": {
           "shape": ""
          }
         },
         "name": "Kemal",
         "offsetgroup": "Kemal",
         "orientation": "v",
         "showlegend": true,
         "textposition": "auto",
         "type": "bar",
         "x": [
          "Kemal"
         ],
         "xaxis": "x",
         "y": [
          300
         ],
         "yaxis": "y"
        },
        {
         "alignmentgroup": "True",
         "hovertemplate": "loc=%{x}<br>price=%{y}<extra></extra>",
         "legendgroup": "Şirinkapı",
         "marker": {
          "color": "#ab63fa",
          "pattern": {
           "shape": ""
          }
         },
         "name": "Şirinkapı",
         "offsetgroup": "Şirinkapı",
         "orientation": "v",
         "showlegend": true,
         "textposition": "auto",
         "type": "bar",
         "x": [
          "Şirinkapı"
         ],
         "xaxis": "x",
         "y": [
          19000
         ],
         "yaxis": "y"
        },
        {
         "alignmentgroup": "True",
         "hovertemplate": "loc=%{x}<br>price=%{y}<extra></extra>",
         "legendgroup": "Yeşilbağlar",
         "marker": {
          "color": "#FFA15A",
          "pattern": {
           "shape": ""
          }
         },
         "name": "Yeşilbağlar",
         "offsetgroup": "Yeşilbağlar",
         "orientation": "v",
         "showlegend": true,
         "textposition": "auto",
         "type": "bar",
         "x": [
          "Yeşilbağlar"
         ],
         "xaxis": "x",
         "y": [
          12000
         ],
         "yaxis": "y"
        }
       ],
       "layout": {
        "barmode": "relative",
        "legend": {
         "title": {
          "text": "loc"
         },
         "tracegroupgap": 0
        },
        "margin": {
         "t": 60
        },
        "template": {
         "data": {
          "bar": [
           {
            "error_x": {
             "color": "#2a3f5f"
            },
            "error_y": {
             "color": "#2a3f5f"
            },
            "marker": {
             "line": {
              "color": "#E5ECF6",
              "width": 0.5
             },
             "pattern": {
              "fillmode": "overlay",
              "size": 10,
              "solidity": 0.2
             }
            },
            "type": "bar"
           }
          ],
          "barpolar": [
           {
            "marker": {
             "line": {
              "color": "#E5ECF6",
              "width": 0.5
             },
             "pattern": {
              "fillmode": "overlay",
              "size": 10,
              "solidity": 0.2
             }
            },
            "type": "barpolar"
           }
          ],
          "carpet": [
           {
            "aaxis": {
             "endlinecolor": "#2a3f5f",
             "gridcolor": "white",
             "linecolor": "white",
             "minorgridcolor": "white",
             "startlinecolor": "#2a3f5f"
            },
            "baxis": {
             "endlinecolor": "#2a3f5f",
             "gridcolor": "white",
             "linecolor": "white",
             "minorgridcolor": "white",
             "startlinecolor": "#2a3f5f"
            },
            "type": "carpet"
           }
          ],
          "choropleth": [
           {
            "colorbar": {
             "outlinewidth": 0,
             "ticks": ""
            },
            "type": "choropleth"
           }
          ],
          "contour": [
           {
            "colorbar": {
             "outlinewidth": 0,
             "ticks": ""
            },
            "colorscale": [
             [
              0,
              "#0d0887"
             ],
             [
              0.1111111111111111,
              "#46039f"
             ],
             [
              0.2222222222222222,
              "#7201a8"
             ],
             [
              0.3333333333333333,
              "#9c179e"
             ],
             [
              0.4444444444444444,
              "#bd3786"
             ],
             [
              0.5555555555555556,
              "#d8576b"
             ],
             [
              0.6666666666666666,
              "#ed7953"
             ],
             [
              0.7777777777777778,
              "#fb9f3a"
             ],
             [
              0.8888888888888888,
              "#fdca26"
             ],
             [
              1,
              "#f0f921"
             ]
            ],
            "type": "contour"
           }
          ],
          "contourcarpet": [
           {
            "colorbar": {
             "outlinewidth": 0,
             "ticks": ""
            },
            "type": "contourcarpet"
           }
          ],
          "heatmap": [
           {
            "colorbar": {
             "outlinewidth": 0,
             "ticks": ""
            },
            "colorscale": [
             [
              0,
              "#0d0887"
             ],
             [
              0.1111111111111111,
              "#46039f"
             ],
             [
              0.2222222222222222,
              "#7201a8"
             ],
             [
              0.3333333333333333,
              "#9c179e"
             ],
             [
              0.4444444444444444,
              "#bd3786"
             ],
             [
              0.5555555555555556,
              "#d8576b"
             ],
             [
              0.6666666666666666,
              "#ed7953"
             ],
             [
              0.7777777777777778,
              "#fb9f3a"
             ],
             [
              0.8888888888888888,
              "#fdca26"
             ],
             [
              1,
              "#f0f921"
             ]
            ],
            "type": "heatmap"
           }
          ],
          "heatmapgl": [
           {
            "colorbar": {
             "outlinewidth": 0,
             "ticks": ""
            },
            "colorscale": [
             [
              0,
              "#0d0887"
             ],
             [
              0.1111111111111111,
              "#46039f"
             ],
             [
              0.2222222222222222,
              "#7201a8"
             ],
             [
              0.3333333333333333,
              "#9c179e"
             ],
             [
              0.4444444444444444,
              "#bd3786"
             ],
             [
              0.5555555555555556,
              "#d8576b"
             ],
             [
              0.6666666666666666,
              "#ed7953"
             ],
             [
              0.7777777777777778,
              "#fb9f3a"
             ],
             [
              0.8888888888888888,
              "#fdca26"
             ],
             [
              1,
              "#f0f921"
             ]
            ],
            "type": "heatmapgl"
           }
          ],
          "histogram": [
           {
            "marker": {
             "pattern": {
              "fillmode": "overlay",
              "size": 10,
              "solidity": 0.2
             }
            },
            "type": "histogram"
           }
          ],
          "histogram2d": [
           {
            "colorbar": {
             "outlinewidth": 0,
             "ticks": ""
            },
            "colorscale": [
             [
              0,
              "#0d0887"
             ],
             [
              0.1111111111111111,
              "#46039f"
             ],
             [
              0.2222222222222222,
              "#7201a8"
             ],
             [
              0.3333333333333333,
              "#9c179e"
             ],
             [
              0.4444444444444444,
              "#bd3786"
             ],
             [
              0.5555555555555556,
              "#d8576b"
             ],
             [
              0.6666666666666666,
              "#ed7953"
             ],
             [
              0.7777777777777778,
              "#fb9f3a"
             ],
             [
              0.8888888888888888,
              "#fdca26"
             ],
             [
              1,
              "#f0f921"
             ]
            ],
            "type": "histogram2d"
           }
          ],
          "histogram2dcontour": [
           {
            "colorbar": {
             "outlinewidth": 0,
             "ticks": ""
            },
            "colorscale": [
             [
              0,
              "#0d0887"
             ],
             [
              0.1111111111111111,
              "#46039f"
             ],
             [
              0.2222222222222222,
              "#7201a8"
             ],
             [
              0.3333333333333333,
              "#9c179e"
             ],
             [
              0.4444444444444444,
              "#bd3786"
             ],
             [
              0.5555555555555556,
              "#d8576b"
             ],
             [
              0.6666666666666666,
              "#ed7953"
             ],
             [
              0.7777777777777778,
              "#fb9f3a"
             ],
             [
              0.8888888888888888,
              "#fdca26"
             ],
             [
              1,
              "#f0f921"
             ]
            ],
            "type": "histogram2dcontour"
           }
          ],
          "mesh3d": [
           {
            "colorbar": {
             "outlinewidth": 0,
             "ticks": ""
            },
            "type": "mesh3d"
           }
          ],
          "parcoords": [
           {
            "line": {
             "colorbar": {
              "outlinewidth": 0,
              "ticks": ""
             }
            },
            "type": "parcoords"
           }
          ],
          "pie": [
           {
            "automargin": true,
            "type": "pie"
           }
          ],
          "scatter": [
           {
            "fillpattern": {
             "fillmode": "overlay",
             "size": 10,
             "solidity": 0.2
            },
            "type": "scatter"
           }
          ],
          "scatter3d": [
           {
            "line": {
             "colorbar": {
              "outlinewidth": 0,
              "ticks": ""
             }
            },
            "marker": {
             "colorbar": {
              "outlinewidth": 0,
              "ticks": ""
             }
            },
            "type": "scatter3d"
           }
          ],
          "scattercarpet": [
           {
            "marker": {
             "colorbar": {
              "outlinewidth": 0,
              "ticks": ""
             }
            },
            "type": "scattercarpet"
           }
          ],
          "scattergeo": [
           {
            "marker": {
             "colorbar": {
              "outlinewidth": 0,
              "ticks": ""
             }
            },
            "type": "scattergeo"
           }
          ],
          "scattergl": [
           {
            "marker": {
             "colorbar": {
              "outlinewidth": 0,
              "ticks": ""
             }
            },
            "type": "scattergl"
           }
          ],
          "scattermapbox": [
           {
            "marker": {
             "colorbar": {
              "outlinewidth": 0,
              "ticks": ""
             }
            },
            "type": "scattermapbox"
           }
          ],
          "scatterpolar": [
           {
            "marker": {
             "colorbar": {
              "outlinewidth": 0,
              "ticks": ""
             }
            },
            "type": "scatterpolar"
           }
          ],
          "scatterpolargl": [
           {
            "marker": {
             "colorbar": {
              "outlinewidth": 0,
              "ticks": ""
             }
            },
            "type": "scatterpolargl"
           }
          ],
          "scatterternary": [
           {
            "marker": {
             "colorbar": {
              "outlinewidth": 0,
              "ticks": ""
             }
            },
            "type": "scatterternary"
           }
          ],
          "surface": [
           {
            "colorbar": {
             "outlinewidth": 0,
             "ticks": ""
            },
            "colorscale": [
             [
              0,
              "#0d0887"
             ],
             [
              0.1111111111111111,
              "#46039f"
             ],
             [
              0.2222222222222222,
              "#7201a8"
             ],
             [
              0.3333333333333333,
              "#9c179e"
             ],
             [
              0.4444444444444444,
              "#bd3786"
             ],
             [
              0.5555555555555556,
              "#d8576b"
             ],
             [
              0.6666666666666666,
              "#ed7953"
             ],
             [
              0.7777777777777778,
              "#fb9f3a"
             ],
             [
              0.8888888888888888,
              "#fdca26"
             ],
             [
              1,
              "#f0f921"
             ]
            ],
            "type": "surface"
           }
          ],
          "table": [
           {
            "cells": {
             "fill": {
              "color": "#EBF0F8"
             },
             "line": {
              "color": "white"
             }
            },
            "header": {
             "fill": {
              "color": "#C8D4E3"
             },
             "line": {
              "color": "white"
             }
            },
            "type": "table"
           }
          ]
         },
         "layout": {
          "annotationdefaults": {
           "arrowcolor": "#2a3f5f",
           "arrowhead": 0,
           "arrowwidth": 1
          },
          "autotypenumbers": "strict",
          "coloraxis": {
           "colorbar": {
            "outlinewidth": 0,
            "ticks": ""
           }
          },
          "colorscale": {
           "diverging": [
            [
             0,
             "#8e0152"
            ],
            [
             0.1,
             "#c51b7d"
            ],
            [
             0.2,
             "#de77ae"
            ],
            [
             0.3,
             "#f1b6da"
            ],
            [
             0.4,
             "#fde0ef"
            ],
            [
             0.5,
             "#f7f7f7"
            ],
            [
             0.6,
             "#e6f5d0"
            ],
            [
             0.7,
             "#b8e186"
            ],
            [
             0.8,
             "#7fbc41"
            ],
            [
             0.9,
             "#4d9221"
            ],
            [
             1,
             "#276419"
            ]
           ],
           "sequential": [
            [
             0,
             "#0d0887"
            ],
            [
             0.1111111111111111,
             "#46039f"
            ],
            [
             0.2222222222222222,
             "#7201a8"
            ],
            [
             0.3333333333333333,
             "#9c179e"
            ],
            [
             0.4444444444444444,
             "#bd3786"
            ],
            [
             0.5555555555555556,
             "#d8576b"
            ],
            [
             0.6666666666666666,
             "#ed7953"
            ],
            [
             0.7777777777777778,
             "#fb9f3a"
            ],
            [
             0.8888888888888888,
             "#fdca26"
            ],
            [
             1,
             "#f0f921"
            ]
           ],
           "sequentialminus": [
            [
             0,
             "#0d0887"
            ],
            [
             0.1111111111111111,
             "#46039f"
            ],
            [
             0.2222222222222222,
             "#7201a8"
            ],
            [
             0.3333333333333333,
             "#9c179e"
            ],
            [
             0.4444444444444444,
             "#bd3786"
            ],
            [
             0.5555555555555556,
             "#d8576b"
            ],
            [
             0.6666666666666666,
             "#ed7953"
            ],
            [
             0.7777777777777778,
             "#fb9f3a"
            ],
            [
             0.8888888888888888,
             "#fdca26"
            ],
            [
             1,
             "#f0f921"
            ]
           ]
          },
          "colorway": [
           "#636efa",
           "#EF553B",
           "#00cc96",
           "#ab63fa",
           "#FFA15A",
           "#19d3f3",
           "#FF6692",
           "#B6E880",
           "#FF97FF",
           "#FECB52"
          ],
          "font": {
           "color": "#2a3f5f"
          },
          "geo": {
           "bgcolor": "white",
           "lakecolor": "white",
           "landcolor": "#E5ECF6",
           "showlakes": true,
           "showland": true,
           "subunitcolor": "white"
          },
          "hoverlabel": {
           "align": "left"
          },
          "hovermode": "closest",
          "mapbox": {
           "style": "light"
          },
          "paper_bgcolor": "white",
          "plot_bgcolor": "#E5ECF6",
          "polar": {
           "angularaxis": {
            "gridcolor": "white",
            "linecolor": "white",
            "ticks": ""
           },
           "bgcolor": "#E5ECF6",
           "radialaxis": {
            "gridcolor": "white",
            "linecolor": "white",
            "ticks": ""
           }
          },
          "scene": {
           "xaxis": {
            "backgroundcolor": "#E5ECF6",
            "gridcolor": "white",
            "gridwidth": 2,
            "linecolor": "white",
            "showbackground": true,
            "ticks": "",
            "zerolinecolor": "white"
           },
           "yaxis": {
            "backgroundcolor": "#E5ECF6",
            "gridcolor": "white",
            "gridwidth": 2,
            "linecolor": "white",
            "showbackground": true,
            "ticks": "",
            "zerolinecolor": "white"
           },
           "zaxis": {
            "backgroundcolor": "#E5ECF6",
            "gridcolor": "white",
            "gridwidth": 2,
            "linecolor": "white",
            "showbackground": true,
            "ticks": "",
            "zerolinecolor": "white"
           }
          },
          "shapedefaults": {
           "line": {
            "color": "#2a3f5f"
           }
          },
          "ternary": {
           "aaxis": {
            "gridcolor": "white",
            "linecolor": "white",
            "ticks": ""
           },
           "baxis": {
            "gridcolor": "white",
            "linecolor": "white",
            "ticks": ""
           },
           "bgcolor": "#E5ECF6",
           "caxis": {
            "gridcolor": "white",
            "linecolor": "white",
            "ticks": ""
           }
          },
          "title": {
           "x": 0.05
          },
          "xaxis": {
           "automargin": true,
           "gridcolor": "white",
           "linecolor": "white",
           "ticks": "",
           "title": {
            "standoff": 15
           },
           "zerolinecolor": "white",
           "zerolinewidth": 2
          },
          "yaxis": {
           "automargin": true,
           "gridcolor": "white",
           "linecolor": "white",
           "ticks": "",
           "title": {
            "standoff": 15
           },
           "zerolinecolor": "white",
           "zerolinewidth": 2
          }
         }
        },
        "xaxis": {
         "anchor": "y",
         "categoryarray": [
          "Kozağaç",
          "Atatürk",
          "Adatepe",
          "Laleli",
          "Hürriyet",
          "Kuruçeşme",
          "Koop.",
          "Yıldız",
          "Yaylacık",
          "Dumlupınar",
          "Menderes",
          "Çaldıran",
          "Dicle",
          "Çamlıkule",
          "Gaziler",
          "İnönü",
          "Ufuk",
          "Barış",
          "Akıncılar",
          "İnkılap",
          "Bey",
          "Efeler",
          "Kemal",
          "Şirinkapı",
          "Yeşilbağlar"
         ],
         "categoryorder": "array",
         "domain": [
          0,
          1
         ],
         "title": {
          "text": "loc"
         }
        },
        "yaxis": {
         "anchor": "x",
         "domain": [
          0,
          1
         ],
         "title": {
          "text": "price"
         }
        }
       }
      }
     },
     "metadata": {},
     "output_type": "display_data"
    }
   ],
   "source": [
    "px.bar(df.loc[df['rooms'] == 1, ['loc', 'price']], 'loc', 'price', 'loc')"
   ]
  },
  {
   "cell_type": "code",
   "execution_count": 275,
   "metadata": {},
   "outputs": [
    {
     "data": {
      "application/vnd.plotly.v1+json": {
       "config": {
        "plotlyServerURL": "https://plot.ly"
       },
       "data": [
        {
         "alignmentgroup": "True",
         "hovertemplate": "date=%{x}<br>price=%{y}<extra></extra>",
         "legendgroup": "2024-10-11 00:00:00",
         "marker": {
          "color": "#636efa",
          "pattern": {
           "shape": ""
          }
         },
         "name": "2024-10-11 00:00:00",
         "offsetgroup": "2024-10-11 00:00:00",
         "orientation": "v",
         "showlegend": true,
         "textposition": "auto",
         "type": "bar",
         "x": [
          "2024-10-11T00:00:00",
          "2024-10-11T00:00:00",
          "2024-10-11T00:00:00",
          "2024-10-11T00:00:00",
          "2024-10-11T00:00:00",
          "2024-10-11T00:00:00",
          "2024-10-11T00:00:00",
          "2024-10-11T00:00:00",
          "2024-10-11T00:00:00",
          "2024-10-11T00:00:00",
          "2024-10-11T00:00:00",
          "2024-10-11T00:00:00",
          "2024-10-11T00:00:00",
          "2024-10-11T00:00:00",
          "2024-10-11T00:00:00",
          "2024-10-11T00:00:00",
          "2024-10-11T00:00:00",
          "2024-10-11T00:00:00"
         ],
         "xaxis": "x",
         "y": [
          17500,
          18500,
          17000,
          15000,
          12500,
          17000,
          16000,
          14000,
          18000,
          19000,
          16000,
          15500,
          15000,
          11000,
          15000,
          13000,
          15000,
          14000
         ],
         "yaxis": "y"
        },
        {
         "alignmentgroup": "True",
         "hovertemplate": "date=%{x}<br>price=%{y}<extra></extra>",
         "legendgroup": "2024-10-10 00:00:00",
         "marker": {
          "color": "#EF553B",
          "pattern": {
           "shape": ""
          }
         },
         "name": "2024-10-10 00:00:00",
         "offsetgroup": "2024-10-10 00:00:00",
         "orientation": "v",
         "showlegend": true,
         "textposition": "auto",
         "type": "bar",
         "x": [
          "2024-10-10T00:00:00",
          "2024-10-10T00:00:00",
          "2024-10-10T00:00:00",
          "2024-10-10T00:00:00",
          "2024-10-10T00:00:00",
          "2024-10-10T00:00:00",
          "2024-10-10T00:00:00",
          "2024-10-10T00:00:00",
          "2024-10-10T00:00:00",
          "2024-10-10T00:00:00",
          "2024-10-10T00:00:00",
          "2024-10-10T00:00:00",
          "2024-10-10T00:00:00",
          "2024-10-10T00:00:00",
          "2024-10-10T00:00:00",
          "2024-10-10T00:00:00",
          "2024-10-10T00:00:00",
          "2024-10-10T00:00:00",
          "2024-10-10T00:00:00",
          "2024-10-10T00:00:00"
         ],
         "xaxis": "x",
         "y": [
          16000,
          16000,
          16000,
          25000,
          12000,
          14500,
          22500,
          11500,
          18000,
          10000,
          16500,
          18000,
          15750,
          11000,
          12999,
          14000,
          14150,
          10000,
          20000,
          16750
         ],
         "yaxis": "y"
        },
        {
         "alignmentgroup": "True",
         "hovertemplate": "date=%{x}<br>price=%{y}<extra></extra>",
         "legendgroup": "2024-10-09 00:00:00",
         "marker": {
          "color": "#00cc96",
          "pattern": {
           "shape": ""
          }
         },
         "name": "2024-10-09 00:00:00",
         "offsetgroup": "2024-10-09 00:00:00",
         "orientation": "v",
         "showlegend": true,
         "textposition": "auto",
         "type": "bar",
         "x": [
          "2024-10-09T00:00:00",
          "2024-10-09T00:00:00",
          "2024-10-09T00:00:00",
          "2024-10-09T00:00:00",
          "2024-10-09T00:00:00",
          "2024-10-09T00:00:00",
          "2024-10-09T00:00:00",
          "2024-10-09T00:00:00",
          "2024-10-09T00:00:00",
          "2024-10-09T00:00:00",
          "2024-10-09T00:00:00",
          "2024-10-09T00:00:00",
          "2024-10-09T00:00:00"
         ],
         "xaxis": "x",
         "y": [
          15000,
          16500,
          19500,
          14200,
          13000,
          18000,
          16000,
          16000,
          10000,
          16000,
          16000,
          16000,
          17000
         ],
         "yaxis": "y"
        },
        {
         "alignmentgroup": "True",
         "hovertemplate": "date=%{x}<br>price=%{y}<extra></extra>",
         "legendgroup": "2024-10-08 00:00:00",
         "marker": {
          "color": "#ab63fa",
          "pattern": {
           "shape": ""
          }
         },
         "name": "2024-10-08 00:00:00",
         "offsetgroup": "2024-10-08 00:00:00",
         "orientation": "v",
         "showlegend": true,
         "textposition": "auto",
         "type": "bar",
         "x": [
          "2024-10-08T00:00:00",
          "2024-10-08T00:00:00",
          "2024-10-08T00:00:00",
          "2024-10-08T00:00:00",
          "2024-10-08T00:00:00"
         ],
         "xaxis": "x",
         "y": [
          16000,
          15000,
          15000,
          18000,
          10000
         ],
         "yaxis": "y"
        },
        {
         "alignmentgroup": "True",
         "hovertemplate": "date=%{x}<br>price=%{y}<extra></extra>",
         "legendgroup": "2024-10-06 00:00:00",
         "marker": {
          "color": "#FFA15A",
          "pattern": {
           "shape": ""
          }
         },
         "name": "2024-10-06 00:00:00",
         "offsetgroup": "2024-10-06 00:00:00",
         "orientation": "v",
         "showlegend": true,
         "textposition": "auto",
         "type": "bar",
         "x": [
          "2024-10-06T00:00:00",
          "2024-10-06T00:00:00"
         ],
         "xaxis": "x",
         "y": [
          12500,
          18000
         ],
         "yaxis": "y"
        },
        {
         "alignmentgroup": "True",
         "hovertemplate": "date=%{x}<br>price=%{y}<extra></extra>",
         "legendgroup": "2024-10-07 00:00:00",
         "marker": {
          "color": "#19d3f3",
          "pattern": {
           "shape": ""
          }
         },
         "name": "2024-10-07 00:00:00",
         "offsetgroup": "2024-10-07 00:00:00",
         "orientation": "v",
         "showlegend": true,
         "textposition": "auto",
         "type": "bar",
         "x": [
          "2024-10-07T00:00:00",
          "2024-10-07T00:00:00",
          "2024-10-07T00:00:00",
          "2024-10-07T00:00:00",
          "2024-10-07T00:00:00",
          "2024-10-07T00:00:00",
          "2024-10-07T00:00:00",
          "2024-10-07T00:00:00",
          "2024-10-07T00:00:00",
          "2024-10-07T00:00:00",
          "2024-10-07T00:00:00",
          "2024-10-07T00:00:00"
         ],
         "xaxis": "x",
         "y": [
          13000,
          15500,
          20000,
          18000,
          12000,
          12000,
          15500,
          10000,
          14000,
          14500,
          17500,
          16500
         ],
         "yaxis": "y"
        },
        {
         "alignmentgroup": "True",
         "hovertemplate": "date=%{x}<br>price=%{y}<extra></extra>",
         "legendgroup": "2024-10-04 00:00:00",
         "marker": {
          "color": "#FF6692",
          "pattern": {
           "shape": ""
          }
         },
         "name": "2024-10-04 00:00:00",
         "offsetgroup": "2024-10-04 00:00:00",
         "orientation": "v",
         "showlegend": true,
         "textposition": "auto",
         "type": "bar",
         "x": [
          "2024-10-04T00:00:00",
          "2024-10-04T00:00:00",
          "2024-10-04T00:00:00",
          "2024-10-04T00:00:00",
          "2024-10-04T00:00:00",
          "2024-10-04T00:00:00",
          "2024-10-04T00:00:00",
          "2024-10-04T00:00:00",
          "2024-10-04T00:00:00"
         ],
         "xaxis": "x",
         "y": [
          20500,
          13000,
          21000,
          16000,
          22000,
          16500,
          19500,
          17000,
          13750
         ],
         "yaxis": "y"
        },
        {
         "alignmentgroup": "True",
         "hovertemplate": "date=%{x}<br>price=%{y}<extra></extra>",
         "legendgroup": "2024-09-18 00:00:00",
         "marker": {
          "color": "#B6E880",
          "pattern": {
           "shape": ""
          }
         },
         "name": "2024-09-18 00:00:00",
         "offsetgroup": "2024-09-18 00:00:00",
         "orientation": "v",
         "showlegend": true,
         "textposition": "auto",
         "type": "bar",
         "x": [
          "2024-09-18T00:00:00",
          "2024-09-18T00:00:00"
         ],
         "xaxis": "x",
         "y": [
          15500,
          13000
         ],
         "yaxis": "y"
        },
        {
         "alignmentgroup": "True",
         "hovertemplate": "date=%{x}<br>price=%{y}<extra></extra>",
         "legendgroup": "2024-09-17 00:00:00",
         "marker": {
          "color": "#FF97FF",
          "pattern": {
           "shape": ""
          }
         },
         "name": "2024-09-17 00:00:00",
         "offsetgroup": "2024-09-17 00:00:00",
         "orientation": "v",
         "showlegend": true,
         "textposition": "auto",
         "type": "bar",
         "x": [
          "2024-09-17T00:00:00",
          "2024-09-17T00:00:00",
          "2024-09-17T00:00:00",
          "2024-09-17T00:00:00",
          "2024-09-17T00:00:00"
         ],
         "xaxis": "x",
         "y": [
          15000,
          15500,
          16000,
          16000,
          14000
         ],
         "yaxis": "y"
        },
        {
         "alignmentgroup": "True",
         "hovertemplate": "date=%{x}<br>price=%{y}<extra></extra>",
         "legendgroup": "2024-09-20 00:00:00",
         "marker": {
          "color": "#FECB52",
          "pattern": {
           "shape": ""
          }
         },
         "name": "2024-09-20 00:00:00",
         "offsetgroup": "2024-09-20 00:00:00",
         "orientation": "v",
         "showlegend": true,
         "textposition": "auto",
         "type": "bar",
         "x": [
          "2024-09-20T00:00:00"
         ],
         "xaxis": "x",
         "y": [
          13500
         ],
         "yaxis": "y"
        },
        {
         "alignmentgroup": "True",
         "hovertemplate": "date=%{x}<br>price=%{y}<extra></extra>",
         "legendgroup": "2024-10-03 00:00:00",
         "marker": {
          "color": "#636efa",
          "pattern": {
           "shape": ""
          }
         },
         "name": "2024-10-03 00:00:00",
         "offsetgroup": "2024-10-03 00:00:00",
         "orientation": "v",
         "showlegend": true,
         "textposition": "auto",
         "type": "bar",
         "x": [
          "2024-10-03T00:00:00",
          "2024-10-03T00:00:00",
          "2024-10-03T00:00:00",
          "2024-10-03T00:00:00",
          "2024-10-03T00:00:00",
          "2024-10-03T00:00:00"
         ],
         "xaxis": "x",
         "y": [
          18000,
          16500,
          14000,
          16000,
          16500,
          13000
         ],
         "yaxis": "y"
        },
        {
         "alignmentgroup": "True",
         "hovertemplate": "date=%{x}<br>price=%{y}<extra></extra>",
         "legendgroup": "2024-09-30 00:00:00",
         "marker": {
          "color": "#EF553B",
          "pattern": {
           "shape": ""
          }
         },
         "name": "2024-09-30 00:00:00",
         "offsetgroup": "2024-09-30 00:00:00",
         "orientation": "v",
         "showlegend": true,
         "textposition": "auto",
         "type": "bar",
         "x": [
          "2024-09-30T00:00:00",
          "2024-09-30T00:00:00",
          "2024-09-30T00:00:00",
          "2024-09-30T00:00:00",
          "2024-09-30T00:00:00"
         ],
         "xaxis": "x",
         "y": [
          13000,
          15000,
          13000,
          23000,
          13500
         ],
         "yaxis": "y"
        },
        {
         "alignmentgroup": "True",
         "hovertemplate": "date=%{x}<br>price=%{y}<extra></extra>",
         "legendgroup": "2024-10-02 00:00:00",
         "marker": {
          "color": "#00cc96",
          "pattern": {
           "shape": ""
          }
         },
         "name": "2024-10-02 00:00:00",
         "offsetgroup": "2024-10-02 00:00:00",
         "orientation": "v",
         "showlegend": true,
         "textposition": "auto",
         "type": "bar",
         "x": [
          "2024-10-02T00:00:00",
          "2024-10-02T00:00:00",
          "2024-10-02T00:00:00",
          "2024-10-02T00:00:00",
          "2024-10-02T00:00:00",
          "2024-10-02T00:00:00",
          "2024-10-02T00:00:00",
          "2024-10-02T00:00:00",
          "2024-10-02T00:00:00",
          "2024-10-02T00:00:00",
          "2024-10-02T00:00:00",
          "2024-10-02T00:00:00",
          "2024-10-02T00:00:00",
          "2024-10-02T00:00:00",
          "2024-10-02T00:00:00",
          "2024-10-02T00:00:00",
          "2024-10-02T00:00:00"
         ],
         "xaxis": "x",
         "y": [
          12500,
          12500,
          13000,
          13000,
          15500,
          15000,
          15000,
          13000,
          13000,
          18000,
          12000,
          15000,
          20000,
          15000,
          13000,
          15000,
          15000
         ],
         "yaxis": "y"
        },
        {
         "alignmentgroup": "True",
         "hovertemplate": "date=%{x}<br>price=%{y}<extra></extra>",
         "legendgroup": "2024-09-12 00:00:00",
         "marker": {
          "color": "#ab63fa",
          "pattern": {
           "shape": ""
          }
         },
         "name": "2024-09-12 00:00:00",
         "offsetgroup": "2024-09-12 00:00:00",
         "orientation": "v",
         "showlegend": true,
         "textposition": "auto",
         "type": "bar",
         "x": [
          "2024-09-12T00:00:00",
          "2024-09-12T00:00:00",
          "2024-09-12T00:00:00",
          "2024-09-12T00:00:00",
          "2024-09-12T00:00:00",
          "2024-09-12T00:00:00",
          "2024-09-12T00:00:00",
          "2024-09-12T00:00:00",
          "2024-09-12T00:00:00",
          "2024-09-12T00:00:00",
          "2024-09-12T00:00:00",
          "2024-09-12T00:00:00"
         ],
         "xaxis": "x",
         "y": [
          17000,
          16000,
          19000,
          15000,
          17000,
          15500,
          17000,
          15000,
          15000,
          15000,
          16000,
          15000
         ],
         "yaxis": "y"
        },
        {
         "alignmentgroup": "True",
         "hovertemplate": "date=%{x}<br>price=%{y}<extra></extra>",
         "legendgroup": "2024-09-28 00:00:00",
         "marker": {
          "color": "#FFA15A",
          "pattern": {
           "shape": ""
          }
         },
         "name": "2024-09-28 00:00:00",
         "offsetgroup": "2024-09-28 00:00:00",
         "orientation": "v",
         "showlegend": true,
         "textposition": "auto",
         "type": "bar",
         "x": [
          "2024-09-28T00:00:00",
          "2024-09-28T00:00:00",
          "2024-09-28T00:00:00",
          "2024-09-28T00:00:00",
          "2024-09-28T00:00:00"
         ],
         "xaxis": "x",
         "y": [
          18000,
          16500,
          15000,
          10000,
          13500
         ],
         "yaxis": "y"
        },
        {
         "alignmentgroup": "True",
         "hovertemplate": "date=%{x}<br>price=%{y}<extra></extra>",
         "legendgroup": "2024-09-10 00:00:00",
         "marker": {
          "color": "#19d3f3",
          "pattern": {
           "shape": ""
          }
         },
         "name": "2024-09-10 00:00:00",
         "offsetgroup": "2024-09-10 00:00:00",
         "orientation": "v",
         "showlegend": true,
         "textposition": "auto",
         "type": "bar",
         "x": [
          "2024-09-10T00:00:00",
          "2024-09-10T00:00:00",
          "2024-09-10T00:00:00",
          "2024-09-10T00:00:00",
          "2024-09-10T00:00:00",
          "2024-09-10T00:00:00",
          "2024-09-10T00:00:00",
          "2024-09-10T00:00:00"
         ],
         "xaxis": "x",
         "y": [
          17500,
          18000,
          13000,
          19000,
          15000,
          14500,
          16000,
          15750
         ],
         "yaxis": "y"
        },
        {
         "alignmentgroup": "True",
         "hovertemplate": "date=%{x}<br>price=%{y}<extra></extra>",
         "legendgroup": "2024-08-17 00:00:00",
         "marker": {
          "color": "#FF6692",
          "pattern": {
           "shape": ""
          }
         },
         "name": "2024-08-17 00:00:00",
         "offsetgroup": "2024-08-17 00:00:00",
         "orientation": "v",
         "showlegend": true,
         "textposition": "auto",
         "type": "bar",
         "x": [
          "2024-08-17T00:00:00",
          "2024-08-17T00:00:00"
         ],
         "xaxis": "x",
         "y": [
          18500,
          16000
         ],
         "yaxis": "y"
        },
        {
         "alignmentgroup": "True",
         "hovertemplate": "date=%{x}<br>price=%{y}<extra></extra>",
         "legendgroup": "2024-09-13 00:00:00",
         "marker": {
          "color": "#B6E880",
          "pattern": {
           "shape": ""
          }
         },
         "name": "2024-09-13 00:00:00",
         "offsetgroup": "2024-09-13 00:00:00",
         "orientation": "v",
         "showlegend": true,
         "textposition": "auto",
         "type": "bar",
         "x": [
          "2024-09-13T00:00:00",
          "2024-09-13T00:00:00",
          "2024-09-13T00:00:00",
          "2024-09-13T00:00:00"
         ],
         "xaxis": "x",
         "y": [
          15000,
          16000,
          17000,
          15000
         ],
         "yaxis": "y"
        },
        {
         "alignmentgroup": "True",
         "hovertemplate": "date=%{x}<br>price=%{y}<extra></extra>",
         "legendgroup": "2024-09-25 00:00:00",
         "marker": {
          "color": "#FF97FF",
          "pattern": {
           "shape": ""
          }
         },
         "name": "2024-09-25 00:00:00",
         "offsetgroup": "2024-09-25 00:00:00",
         "orientation": "v",
         "showlegend": true,
         "textposition": "auto",
         "type": "bar",
         "x": [
          "2024-09-25T00:00:00",
          "2024-09-25T00:00:00",
          "2024-09-25T00:00:00",
          "2024-09-25T00:00:00",
          "2024-09-25T00:00:00",
          "2024-09-25T00:00:00",
          "2024-09-25T00:00:00",
          "2024-09-25T00:00:00",
          "2024-09-25T00:00:00"
         ],
         "xaxis": "x",
         "y": [
          12000,
          13000,
          16000,
          16000,
          13500,
          18000,
          14000,
          12000,
          16000
         ],
         "yaxis": "y"
        },
        {
         "alignmentgroup": "True",
         "hovertemplate": "date=%{x}<br>price=%{y}<extra></extra>",
         "legendgroup": "2024-08-13 00:00:00",
         "marker": {
          "color": "#FECB52",
          "pattern": {
           "shape": ""
          }
         },
         "name": "2024-08-13 00:00:00",
         "offsetgroup": "2024-08-13 00:00:00",
         "orientation": "v",
         "showlegend": true,
         "textposition": "auto",
         "type": "bar",
         "x": [
          "2024-08-13T00:00:00"
         ],
         "xaxis": "x",
         "y": [
          17000
         ],
         "yaxis": "y"
        },
        {
         "alignmentgroup": "True",
         "hovertemplate": "date=%{x}<br>price=%{y}<extra></extra>",
         "legendgroup": "2024-09-15 00:00:00",
         "marker": {
          "color": "#636efa",
          "pattern": {
           "shape": ""
          }
         },
         "name": "2024-09-15 00:00:00",
         "offsetgroup": "2024-09-15 00:00:00",
         "orientation": "v",
         "showlegend": true,
         "textposition": "auto",
         "type": "bar",
         "x": [
          "2024-09-15T00:00:00",
          "2024-09-15T00:00:00",
          "2024-09-15T00:00:00",
          "2024-09-15T00:00:00",
          "2024-09-15T00:00:00",
          "2024-09-15T00:00:00",
          "2024-09-15T00:00:00",
          "2024-09-15T00:00:00",
          "2024-09-15T00:00:00",
          "2024-09-15T00:00:00"
         ],
         "xaxis": "x",
         "y": [
          17000,
          13000,
          15500,
          12000,
          15000,
          13500,
          12000,
          17000,
          12500,
          15000
         ],
         "yaxis": "y"
        },
        {
         "alignmentgroup": "True",
         "hovertemplate": "date=%{x}<br>price=%{y}<extra></extra>",
         "legendgroup": "2024-08-15 00:00:00",
         "marker": {
          "color": "#EF553B",
          "pattern": {
           "shape": ""
          }
         },
         "name": "2024-08-15 00:00:00",
         "offsetgroup": "2024-08-15 00:00:00",
         "orientation": "v",
         "showlegend": true,
         "textposition": "auto",
         "type": "bar",
         "x": [
          "2024-08-15T00:00:00",
          "2024-08-15T00:00:00",
          "2024-08-15T00:00:00"
         ],
         "xaxis": "x",
         "y": [
          19000,
          18000,
          13500
         ],
         "yaxis": "y"
        },
        {
         "alignmentgroup": "True",
         "hovertemplate": "date=%{x}<br>price=%{y}<extra></extra>",
         "legendgroup": "2024-10-05 00:00:00",
         "marker": {
          "color": "#00cc96",
          "pattern": {
           "shape": ""
          }
         },
         "name": "2024-10-05 00:00:00",
         "offsetgroup": "2024-10-05 00:00:00",
         "orientation": "v",
         "showlegend": true,
         "textposition": "auto",
         "type": "bar",
         "x": [
          "2024-10-05T00:00:00"
         ],
         "xaxis": "x",
         "y": [
          20000
         ],
         "yaxis": "y"
        },
        {
         "alignmentgroup": "True",
         "hovertemplate": "date=%{x}<br>price=%{y}<extra></extra>",
         "legendgroup": "2024-09-26 00:00:00",
         "marker": {
          "color": "#ab63fa",
          "pattern": {
           "shape": ""
          }
         },
         "name": "2024-09-26 00:00:00",
         "offsetgroup": "2024-09-26 00:00:00",
         "orientation": "v",
         "showlegend": true,
         "textposition": "auto",
         "type": "bar",
         "x": [
          "2024-09-26T00:00:00",
          "2024-09-26T00:00:00",
          "2024-09-26T00:00:00",
          "2024-09-26T00:00:00",
          "2024-09-26T00:00:00",
          "2024-09-26T00:00:00",
          "2024-09-26T00:00:00",
          "2024-09-26T00:00:00",
          "2024-09-26T00:00:00"
         ],
         "xaxis": "x",
         "y": [
          13500,
          13750,
          15500,
          15500,
          17000,
          16000,
          19000,
          16000,
          19000
         ],
         "yaxis": "y"
        },
        {
         "alignmentgroup": "True",
         "hovertemplate": "date=%{x}<br>price=%{y}<extra></extra>",
         "legendgroup": "2024-08-29 00:00:00",
         "marker": {
          "color": "#FFA15A",
          "pattern": {
           "shape": ""
          }
         },
         "name": "2024-08-29 00:00:00",
         "offsetgroup": "2024-08-29 00:00:00",
         "orientation": "v",
         "showlegend": true,
         "textposition": "auto",
         "type": "bar",
         "x": [
          "2024-08-29T00:00:00"
         ],
         "xaxis": "x",
         "y": [
          13500
         ],
         "yaxis": "y"
        },
        {
         "alignmentgroup": "True",
         "hovertemplate": "date=%{x}<br>price=%{y}<extra></extra>",
         "legendgroup": "2024-09-14 00:00:00",
         "marker": {
          "color": "#19d3f3",
          "pattern": {
           "shape": ""
          }
         },
         "name": "2024-09-14 00:00:00",
         "offsetgroup": "2024-09-14 00:00:00",
         "orientation": "v",
         "showlegend": true,
         "textposition": "auto",
         "type": "bar",
         "x": [
          "2024-09-14T00:00:00",
          "2024-09-14T00:00:00"
         ],
         "xaxis": "x",
         "y": [
          15000,
          15000
         ],
         "yaxis": "y"
        },
        {
         "alignmentgroup": "True",
         "hovertemplate": "date=%{x}<br>price=%{y}<extra></extra>",
         "legendgroup": "2024-09-23 00:00:00",
         "marker": {
          "color": "#FF6692",
          "pattern": {
           "shape": ""
          }
         },
         "name": "2024-09-23 00:00:00",
         "offsetgroup": "2024-09-23 00:00:00",
         "orientation": "v",
         "showlegend": true,
         "textposition": "auto",
         "type": "bar",
         "x": [
          "2024-09-23T00:00:00",
          "2024-09-23T00:00:00",
          "2024-09-23T00:00:00"
         ],
         "xaxis": "x",
         "y": [
          12000,
          15000,
          11000
         ],
         "yaxis": "y"
        },
        {
         "alignmentgroup": "True",
         "hovertemplate": "date=%{x}<br>price=%{y}<extra></extra>",
         "legendgroup": "2024-09-27 00:00:00",
         "marker": {
          "color": "#B6E880",
          "pattern": {
           "shape": ""
          }
         },
         "name": "2024-09-27 00:00:00",
         "offsetgroup": "2024-09-27 00:00:00",
         "orientation": "v",
         "showlegend": true,
         "textposition": "auto",
         "type": "bar",
         "x": [
          "2024-09-27T00:00:00",
          "2024-09-27T00:00:00",
          "2024-09-27T00:00:00",
          "2024-09-27T00:00:00",
          "2024-09-27T00:00:00",
          "2024-09-27T00:00:00"
         ],
         "xaxis": "x",
         "y": [
          15000,
          18500,
          18500,
          15000,
          15000,
          17000
         ],
         "yaxis": "y"
        },
        {
         "alignmentgroup": "True",
         "hovertemplate": "date=%{x}<br>price=%{y}<extra></extra>",
         "legendgroup": "2024-09-09 00:00:00",
         "marker": {
          "color": "#FF97FF",
          "pattern": {
           "shape": ""
          }
         },
         "name": "2024-09-09 00:00:00",
         "offsetgroup": "2024-09-09 00:00:00",
         "orientation": "v",
         "showlegend": true,
         "textposition": "auto",
         "type": "bar",
         "x": [
          "2024-09-09T00:00:00",
          "2024-09-09T00:00:00",
          "2024-09-09T00:00:00",
          "2024-09-09T00:00:00",
          "2024-09-09T00:00:00",
          "2024-09-09T00:00:00",
          "2024-09-09T00:00:00",
          "2024-09-09T00:00:00",
          "2024-09-09T00:00:00",
          "2024-09-09T00:00:00"
         ],
         "xaxis": "x",
         "y": [
          21000,
          17250,
          14000,
          14000,
          4500,
          15000,
          15000,
          13000,
          9500,
          12500
         ],
         "yaxis": "y"
        },
        {
         "alignmentgroup": "True",
         "hovertemplate": "date=%{x}<br>price=%{y}<extra></extra>",
         "legendgroup": "2024-08-24 00:00:00",
         "marker": {
          "color": "#FECB52",
          "pattern": {
           "shape": ""
          }
         },
         "name": "2024-08-24 00:00:00",
         "offsetgroup": "2024-08-24 00:00:00",
         "orientation": "v",
         "showlegend": true,
         "textposition": "auto",
         "type": "bar",
         "x": [
          "2024-08-24T00:00:00",
          "2024-08-24T00:00:00",
          "2024-08-24T00:00:00"
         ],
         "xaxis": "x",
         "y": [
          21000,
          17000,
          15000
         ],
         "yaxis": "y"
        },
        {
         "alignmentgroup": "True",
         "hovertemplate": "date=%{x}<br>price=%{y}<extra></extra>",
         "legendgroup": "2024-08-14 00:00:00",
         "marker": {
          "color": "#636efa",
          "pattern": {
           "shape": ""
          }
         },
         "name": "2024-08-14 00:00:00",
         "offsetgroup": "2024-08-14 00:00:00",
         "orientation": "v",
         "showlegend": true,
         "textposition": "auto",
         "type": "bar",
         "x": [
          "2024-08-14T00:00:00",
          "2024-08-14T00:00:00",
          "2024-08-14T00:00:00",
          "2024-08-14T00:00:00"
         ],
         "xaxis": "x",
         "y": [
          18000,
          13500,
          16000,
          11500
         ],
         "yaxis": "y"
        },
        {
         "alignmentgroup": "True",
         "hovertemplate": "date=%{x}<br>price=%{y}<extra></extra>",
         "legendgroup": "2024-08-20 00:00:00",
         "marker": {
          "color": "#EF553B",
          "pattern": {
           "shape": ""
          }
         },
         "name": "2024-08-20 00:00:00",
         "offsetgroup": "2024-08-20 00:00:00",
         "orientation": "v",
         "showlegend": true,
         "textposition": "auto",
         "type": "bar",
         "x": [
          "2024-08-20T00:00:00",
          "2024-08-20T00:00:00",
          "2024-08-20T00:00:00"
         ],
         "xaxis": "x",
         "y": [
          22000,
          17000,
          14500
         ],
         "yaxis": "y"
        },
        {
         "alignmentgroup": "True",
         "hovertemplate": "date=%{x}<br>price=%{y}<extra></extra>",
         "legendgroup": "2024-09-07 00:00:00",
         "marker": {
          "color": "#00cc96",
          "pattern": {
           "shape": ""
          }
         },
         "name": "2024-09-07 00:00:00",
         "offsetgroup": "2024-09-07 00:00:00",
         "orientation": "v",
         "showlegend": true,
         "textposition": "auto",
         "type": "bar",
         "x": [
          "2024-09-07T00:00:00",
          "2024-09-07T00:00:00",
          "2024-09-07T00:00:00"
         ],
         "xaxis": "x",
         "y": [
          15000,
          15000,
          14500
         ],
         "yaxis": "y"
        },
        {
         "alignmentgroup": "True",
         "hovertemplate": "date=%{x}<br>price=%{y}<extra></extra>",
         "legendgroup": "2024-09-29 00:00:00",
         "marker": {
          "color": "#ab63fa",
          "pattern": {
           "shape": ""
          }
         },
         "name": "2024-09-29 00:00:00",
         "offsetgroup": "2024-09-29 00:00:00",
         "orientation": "v",
         "showlegend": true,
         "textposition": "auto",
         "type": "bar",
         "x": [
          "2024-09-29T00:00:00",
          "2024-09-29T00:00:00",
          "2024-09-29T00:00:00",
          "2024-09-29T00:00:00"
         ],
         "xaxis": "x",
         "y": [
          18000,
          16000,
          14000,
          17500
         ],
         "yaxis": "y"
        },
        {
         "alignmentgroup": "True",
         "hovertemplate": "date=%{x}<br>price=%{y}<extra></extra>",
         "legendgroup": "2024-09-24 00:00:00",
         "marker": {
          "color": "#FFA15A",
          "pattern": {
           "shape": ""
          }
         },
         "name": "2024-09-24 00:00:00",
         "offsetgroup": "2024-09-24 00:00:00",
         "orientation": "v",
         "showlegend": true,
         "textposition": "auto",
         "type": "bar",
         "x": [
          "2024-09-24T00:00:00"
         ],
         "xaxis": "x",
         "y": [
          14000
         ],
         "yaxis": "y"
        },
        {
         "alignmentgroup": "True",
         "hovertemplate": "date=%{x}<br>price=%{y}<extra></extra>",
         "legendgroup": "2024-09-22 00:00:00",
         "marker": {
          "color": "#19d3f3",
          "pattern": {
           "shape": ""
          }
         },
         "name": "2024-09-22 00:00:00",
         "offsetgroup": "2024-09-22 00:00:00",
         "orientation": "v",
         "showlegend": true,
         "textposition": "auto",
         "type": "bar",
         "x": [
          "2024-09-22T00:00:00",
          "2024-09-22T00:00:00",
          "2024-09-22T00:00:00"
         ],
         "xaxis": "x",
         "y": [
          17000,
          14000,
          12000
         ],
         "yaxis": "y"
        },
        {
         "alignmentgroup": "True",
         "hovertemplate": "date=%{x}<br>price=%{y}<extra></extra>",
         "legendgroup": "2024-09-05 00:00:00",
         "marker": {
          "color": "#FF6692",
          "pattern": {
           "shape": ""
          }
         },
         "name": "2024-09-05 00:00:00",
         "offsetgroup": "2024-09-05 00:00:00",
         "orientation": "v",
         "showlegend": true,
         "textposition": "auto",
         "type": "bar",
         "x": [
          "2024-09-05T00:00:00",
          "2024-09-05T00:00:00"
         ],
         "xaxis": "x",
         "y": [
          20000,
          15000
         ],
         "yaxis": "y"
        },
        {
         "alignmentgroup": "True",
         "hovertemplate": "date=%{x}<br>price=%{y}<extra></extra>",
         "legendgroup": "2024-10-01 00:00:00",
         "marker": {
          "color": "#B6E880",
          "pattern": {
           "shape": ""
          }
         },
         "name": "2024-10-01 00:00:00",
         "offsetgroup": "2024-10-01 00:00:00",
         "orientation": "v",
         "showlegend": true,
         "textposition": "auto",
         "type": "bar",
         "x": [
          "2024-10-01T00:00:00",
          "2024-10-01T00:00:00"
         ],
         "xaxis": "x",
         "y": [
          15500,
          14000
         ],
         "yaxis": "y"
        },
        {
         "alignmentgroup": "True",
         "hovertemplate": "date=%{x}<br>price=%{y}<extra></extra>",
         "legendgroup": "2024-09-19 00:00:00",
         "marker": {
          "color": "#FF97FF",
          "pattern": {
           "shape": ""
          }
         },
         "name": "2024-09-19 00:00:00",
         "offsetgroup": "2024-09-19 00:00:00",
         "orientation": "v",
         "showlegend": true,
         "textposition": "auto",
         "type": "bar",
         "x": [
          "2024-09-19T00:00:00"
         ],
         "xaxis": "x",
         "y": [
          12500
         ],
         "yaxis": "y"
        },
        {
         "alignmentgroup": "True",
         "hovertemplate": "date=%{x}<br>price=%{y}<extra></extra>",
         "legendgroup": "2024-07-20 00:00:00",
         "marker": {
          "color": "#FECB52",
          "pattern": {
           "shape": ""
          }
         },
         "name": "2024-07-20 00:00:00",
         "offsetgroup": "2024-07-20 00:00:00",
         "orientation": "v",
         "showlegend": true,
         "textposition": "auto",
         "type": "bar",
         "x": [
          "2024-07-20T00:00:00"
         ],
         "xaxis": "x",
         "y": [
          20000
         ],
         "yaxis": "y"
        },
        {
         "alignmentgroup": "True",
         "hovertemplate": "date=%{x}<br>price=%{y}<extra></extra>",
         "legendgroup": "2024-07-14 00:00:00",
         "marker": {
          "color": "#636efa",
          "pattern": {
           "shape": ""
          }
         },
         "name": "2024-07-14 00:00:00",
         "offsetgroup": "2024-07-14 00:00:00",
         "orientation": "v",
         "showlegend": true,
         "textposition": "auto",
         "type": "bar",
         "x": [
          "2024-07-14T00:00:00"
         ],
         "xaxis": "x",
         "y": [
          22000
         ],
         "yaxis": "y"
        },
        {
         "alignmentgroup": "True",
         "hovertemplate": "date=%{x}<br>price=%{y}<extra></extra>",
         "legendgroup": "2024-08-04 00:00:00",
         "marker": {
          "color": "#EF553B",
          "pattern": {
           "shape": ""
          }
         },
         "name": "2024-08-04 00:00:00",
         "offsetgroup": "2024-08-04 00:00:00",
         "orientation": "v",
         "showlegend": true,
         "textposition": "auto",
         "type": "bar",
         "x": [
          "2024-08-04T00:00:00"
         ],
         "xaxis": "x",
         "y": [
          15000
         ],
         "yaxis": "y"
        },
        {
         "alignmentgroup": "True",
         "hovertemplate": "date=%{x}<br>price=%{y}<extra></extra>",
         "legendgroup": "2024-08-02 00:00:00",
         "marker": {
          "color": "#00cc96",
          "pattern": {
           "shape": ""
          }
         },
         "name": "2024-08-02 00:00:00",
         "offsetgroup": "2024-08-02 00:00:00",
         "orientation": "v",
         "showlegend": true,
         "textposition": "auto",
         "type": "bar",
         "x": [
          "2024-08-02T00:00:00"
         ],
         "xaxis": "x",
         "y": [
          15500
         ],
         "yaxis": "y"
        },
        {
         "alignmentgroup": "True",
         "hovertemplate": "date=%{x}<br>price=%{y}<extra></extra>",
         "legendgroup": "2024-09-06 00:00:00",
         "marker": {
          "color": "#ab63fa",
          "pattern": {
           "shape": ""
          }
         },
         "name": "2024-09-06 00:00:00",
         "offsetgroup": "2024-09-06 00:00:00",
         "orientation": "v",
         "showlegend": true,
         "textposition": "auto",
         "type": "bar",
         "x": [
          "2024-09-06T00:00:00",
          "2024-09-06T00:00:00"
         ],
         "xaxis": "x",
         "y": [
          14000,
          15500
         ],
         "yaxis": "y"
        },
        {
         "alignmentgroup": "True",
         "hovertemplate": "date=%{x}<br>price=%{y}<extra></extra>",
         "legendgroup": "2024-08-10 00:00:00",
         "marker": {
          "color": "#FFA15A",
          "pattern": {
           "shape": ""
          }
         },
         "name": "2024-08-10 00:00:00",
         "offsetgroup": "2024-08-10 00:00:00",
         "orientation": "v",
         "showlegend": true,
         "textposition": "auto",
         "type": "bar",
         "x": [
          "2024-08-10T00:00:00"
         ],
         "xaxis": "x",
         "y": [
          13000
         ],
         "yaxis": "y"
        },
        {
         "alignmentgroup": "True",
         "hovertemplate": "date=%{x}<br>price=%{y}<extra></extra>",
         "legendgroup": "2024-09-02 00:00:00",
         "marker": {
          "color": "#19d3f3",
          "pattern": {
           "shape": ""
          }
         },
         "name": "2024-09-02 00:00:00",
         "offsetgroup": "2024-09-02 00:00:00",
         "orientation": "v",
         "showlegend": true,
         "textposition": "auto",
         "type": "bar",
         "x": [
          "2024-09-02T00:00:00",
          "2024-09-02T00:00:00"
         ],
         "xaxis": "x",
         "y": [
          17000,
          15000
         ],
         "yaxis": "y"
        },
        {
         "alignmentgroup": "True",
         "hovertemplate": "date=%{x}<br>price=%{y}<extra></extra>",
         "legendgroup": "2024-09-16 00:00:00",
         "marker": {
          "color": "#FF6692",
          "pattern": {
           "shape": ""
          }
         },
         "name": "2024-09-16 00:00:00",
         "offsetgroup": "2024-09-16 00:00:00",
         "orientation": "v",
         "showlegend": true,
         "textposition": "auto",
         "type": "bar",
         "x": [
          "2024-09-16T00:00:00"
         ],
         "xaxis": "x",
         "y": [
          15000
         ],
         "yaxis": "y"
        },
        {
         "alignmentgroup": "True",
         "hovertemplate": "date=%{x}<br>price=%{y}<extra></extra>",
         "legendgroup": "2024-08-08 00:00:00",
         "marker": {
          "color": "#B6E880",
          "pattern": {
           "shape": ""
          }
         },
         "name": "2024-08-08 00:00:00",
         "offsetgroup": "2024-08-08 00:00:00",
         "orientation": "v",
         "showlegend": true,
         "textposition": "auto",
         "type": "bar",
         "x": [
          "2024-08-08T00:00:00"
         ],
         "xaxis": "x",
         "y": [
          300
         ],
         "yaxis": "y"
        },
        {
         "alignmentgroup": "True",
         "hovertemplate": "date=%{x}<br>price=%{y}<extra></extra>",
         "legendgroup": "2024-09-04 00:00:00",
         "marker": {
          "color": "#FF97FF",
          "pattern": {
           "shape": ""
          }
         },
         "name": "2024-09-04 00:00:00",
         "offsetgroup": "2024-09-04 00:00:00",
         "orientation": "v",
         "showlegend": true,
         "textposition": "auto",
         "type": "bar",
         "x": [
          "2024-09-04T00:00:00",
          "2024-09-04T00:00:00",
          "2024-09-04T00:00:00",
          "2024-09-04T00:00:00",
          "2024-09-04T00:00:00",
          "2024-09-04T00:00:00",
          "2024-09-04T00:00:00",
          "2024-09-04T00:00:00",
          "2024-09-04T00:00:00",
          "2024-09-04T00:00:00",
          "2024-09-04T00:00:00",
          "2024-09-04T00:00:00"
         ],
         "xaxis": "x",
         "y": [
          19000,
          25000,
          16000,
          14000,
          15000,
          16000,
          13000,
          13500,
          15000,
          16500,
          13000,
          13000
         ],
         "yaxis": "y"
        },
        {
         "alignmentgroup": "True",
         "hovertemplate": "date=%{x}<br>price=%{y}<extra></extra>",
         "legendgroup": "2024-08-07 00:00:00",
         "marker": {
          "color": "#FECB52",
          "pattern": {
           "shape": ""
          }
         },
         "name": "2024-08-07 00:00:00",
         "offsetgroup": "2024-08-07 00:00:00",
         "orientation": "v",
         "showlegend": true,
         "textposition": "auto",
         "type": "bar",
         "x": [
          "2024-08-07T00:00:00"
         ],
         "xaxis": "x",
         "y": [
          19000
         ],
         "yaxis": "y"
        },
        {
         "alignmentgroup": "True",
         "hovertemplate": "date=%{x}<br>price=%{y}<extra></extra>",
         "legendgroup": "2024-08-11 00:00:00",
         "marker": {
          "color": "#636efa",
          "pattern": {
           "shape": ""
          }
         },
         "name": "2024-08-11 00:00:00",
         "offsetgroup": "2024-08-11 00:00:00",
         "orientation": "v",
         "showlegend": true,
         "textposition": "auto",
         "type": "bar",
         "x": [
          "2024-08-11T00:00:00"
         ],
         "xaxis": "x",
         "y": [
          16500
         ],
         "yaxis": "y"
        },
        {
         "alignmentgroup": "True",
         "hovertemplate": "date=%{x}<br>price=%{y}<extra></extra>",
         "legendgroup": "2024-09-11 00:00:00",
         "marker": {
          "color": "#EF553B",
          "pattern": {
           "shape": ""
          }
         },
         "name": "2024-09-11 00:00:00",
         "offsetgroup": "2024-09-11 00:00:00",
         "orientation": "v",
         "showlegend": true,
         "textposition": "auto",
         "type": "bar",
         "x": [
          "2024-09-11T00:00:00",
          "2024-09-11T00:00:00"
         ],
         "xaxis": "x",
         "y": [
          17500,
          16000
         ],
         "yaxis": "y"
        },
        {
         "alignmentgroup": "True",
         "hovertemplate": "date=%{x}<br>price=%{y}<extra></extra>",
         "legendgroup": "2024-08-12 00:00:00",
         "marker": {
          "color": "#00cc96",
          "pattern": {
           "shape": ""
          }
         },
         "name": "2024-08-12 00:00:00",
         "offsetgroup": "2024-08-12 00:00:00",
         "orientation": "v",
         "showlegend": true,
         "textposition": "auto",
         "type": "bar",
         "x": [
          "2024-08-12T00:00:00",
          "2024-08-12T00:00:00"
         ],
         "xaxis": "x",
         "y": [
          16000,
          13000
         ],
         "yaxis": "y"
        },
        {
         "alignmentgroup": "True",
         "hovertemplate": "date=%{x}<br>price=%{y}<extra></extra>",
         "legendgroup": "2024-09-03 00:00:00",
         "marker": {
          "color": "#ab63fa",
          "pattern": {
           "shape": ""
          }
         },
         "name": "2024-09-03 00:00:00",
         "offsetgroup": "2024-09-03 00:00:00",
         "orientation": "v",
         "showlegend": true,
         "textposition": "auto",
         "type": "bar",
         "x": [
          "2024-09-03T00:00:00"
         ],
         "xaxis": "x",
         "y": [
          16000
         ],
         "yaxis": "y"
        },
        {
         "alignmentgroup": "True",
         "hovertemplate": "date=%{x}<br>price=%{y}<extra></extra>",
         "legendgroup": "2024-08-23 00:00:00",
         "marker": {
          "color": "#FFA15A",
          "pattern": {
           "shape": ""
          }
         },
         "name": "2024-08-23 00:00:00",
         "offsetgroup": "2024-08-23 00:00:00",
         "orientation": "v",
         "showlegend": true,
         "textposition": "auto",
         "type": "bar",
         "x": [
          "2024-08-23T00:00:00"
         ],
         "xaxis": "x",
         "y": [
          12500
         ],
         "yaxis": "y"
        },
        {
         "alignmentgroup": "True",
         "hovertemplate": "date=%{x}<br>price=%{y}<extra></extra>",
         "legendgroup": "2024-07-21 00:00:00",
         "marker": {
          "color": "#19d3f3",
          "pattern": {
           "shape": ""
          }
         },
         "name": "2024-07-21 00:00:00",
         "offsetgroup": "2024-07-21 00:00:00",
         "orientation": "v",
         "showlegend": true,
         "textposition": "auto",
         "type": "bar",
         "x": [
          "2024-07-21T00:00:00"
         ],
         "xaxis": "x",
         "y": [
          13000
         ],
         "yaxis": "y"
        },
        {
         "alignmentgroup": "True",
         "hovertemplate": "date=%{x}<br>price=%{y}<extra></extra>",
         "legendgroup": "2024-08-05 00:00:00",
         "marker": {
          "color": "#FF6692",
          "pattern": {
           "shape": ""
          }
         },
         "name": "2024-08-05 00:00:00",
         "offsetgroup": "2024-08-05 00:00:00",
         "orientation": "v",
         "showlegend": true,
         "textposition": "auto",
         "type": "bar",
         "x": [
          "2024-08-05T00:00:00",
          "2024-08-05T00:00:00"
         ],
         "xaxis": "x",
         "y": [
          15000,
          13000
         ],
         "yaxis": "y"
        },
        {
         "alignmentgroup": "True",
         "hovertemplate": "date=%{x}<br>price=%{y}<extra></extra>",
         "legendgroup": "2024-07-15 00:00:00",
         "marker": {
          "color": "#B6E880",
          "pattern": {
           "shape": ""
          }
         },
         "name": "2024-07-15 00:00:00",
         "offsetgroup": "2024-07-15 00:00:00",
         "orientation": "v",
         "showlegend": true,
         "textposition": "auto",
         "type": "bar",
         "x": [
          "2024-07-15T00:00:00"
         ],
         "xaxis": "x",
         "y": [
          14000
         ],
         "yaxis": "y"
        },
        {
         "alignmentgroup": "True",
         "hovertemplate": "date=%{x}<br>price=%{y}<extra></extra>",
         "legendgroup": "2024-08-16 00:00:00",
         "marker": {
          "color": "#FF97FF",
          "pattern": {
           "shape": ""
          }
         },
         "name": "2024-08-16 00:00:00",
         "offsetgroup": "2024-08-16 00:00:00",
         "orientation": "v",
         "showlegend": true,
         "textposition": "auto",
         "type": "bar",
         "x": [
          "2024-08-16T00:00:00"
         ],
         "xaxis": "x",
         "y": [
          16000
         ],
         "yaxis": "y"
        }
       ],
       "layout": {
        "barmode": "relative",
        "legend": {
         "title": {
          "text": "date"
         },
         "tracegroupgap": 0
        },
        "margin": {
         "t": 60
        },
        "template": {
         "data": {
          "bar": [
           {
            "error_x": {
             "color": "#2a3f5f"
            },
            "error_y": {
             "color": "#2a3f5f"
            },
            "marker": {
             "line": {
              "color": "#E5ECF6",
              "width": 0.5
             },
             "pattern": {
              "fillmode": "overlay",
              "size": 10,
              "solidity": 0.2
             }
            },
            "type": "bar"
           }
          ],
          "barpolar": [
           {
            "marker": {
             "line": {
              "color": "#E5ECF6",
              "width": 0.5
             },
             "pattern": {
              "fillmode": "overlay",
              "size": 10,
              "solidity": 0.2
             }
            },
            "type": "barpolar"
           }
          ],
          "carpet": [
           {
            "aaxis": {
             "endlinecolor": "#2a3f5f",
             "gridcolor": "white",
             "linecolor": "white",
             "minorgridcolor": "white",
             "startlinecolor": "#2a3f5f"
            },
            "baxis": {
             "endlinecolor": "#2a3f5f",
             "gridcolor": "white",
             "linecolor": "white",
             "minorgridcolor": "white",
             "startlinecolor": "#2a3f5f"
            },
            "type": "carpet"
           }
          ],
          "choropleth": [
           {
            "colorbar": {
             "outlinewidth": 0,
             "ticks": ""
            },
            "type": "choropleth"
           }
          ],
          "contour": [
           {
            "colorbar": {
             "outlinewidth": 0,
             "ticks": ""
            },
            "colorscale": [
             [
              0,
              "#0d0887"
             ],
             [
              0.1111111111111111,
              "#46039f"
             ],
             [
              0.2222222222222222,
              "#7201a8"
             ],
             [
              0.3333333333333333,
              "#9c179e"
             ],
             [
              0.4444444444444444,
              "#bd3786"
             ],
             [
              0.5555555555555556,
              "#d8576b"
             ],
             [
              0.6666666666666666,
              "#ed7953"
             ],
             [
              0.7777777777777778,
              "#fb9f3a"
             ],
             [
              0.8888888888888888,
              "#fdca26"
             ],
             [
              1,
              "#f0f921"
             ]
            ],
            "type": "contour"
           }
          ],
          "contourcarpet": [
           {
            "colorbar": {
             "outlinewidth": 0,
             "ticks": ""
            },
            "type": "contourcarpet"
           }
          ],
          "heatmap": [
           {
            "colorbar": {
             "outlinewidth": 0,
             "ticks": ""
            },
            "colorscale": [
             [
              0,
              "#0d0887"
             ],
             [
              0.1111111111111111,
              "#46039f"
             ],
             [
              0.2222222222222222,
              "#7201a8"
             ],
             [
              0.3333333333333333,
              "#9c179e"
             ],
             [
              0.4444444444444444,
              "#bd3786"
             ],
             [
              0.5555555555555556,
              "#d8576b"
             ],
             [
              0.6666666666666666,
              "#ed7953"
             ],
             [
              0.7777777777777778,
              "#fb9f3a"
             ],
             [
              0.8888888888888888,
              "#fdca26"
             ],
             [
              1,
              "#f0f921"
             ]
            ],
            "type": "heatmap"
           }
          ],
          "heatmapgl": [
           {
            "colorbar": {
             "outlinewidth": 0,
             "ticks": ""
            },
            "colorscale": [
             [
              0,
              "#0d0887"
             ],
             [
              0.1111111111111111,
              "#46039f"
             ],
             [
              0.2222222222222222,
              "#7201a8"
             ],
             [
              0.3333333333333333,
              "#9c179e"
             ],
             [
              0.4444444444444444,
              "#bd3786"
             ],
             [
              0.5555555555555556,
              "#d8576b"
             ],
             [
              0.6666666666666666,
              "#ed7953"
             ],
             [
              0.7777777777777778,
              "#fb9f3a"
             ],
             [
              0.8888888888888888,
              "#fdca26"
             ],
             [
              1,
              "#f0f921"
             ]
            ],
            "type": "heatmapgl"
           }
          ],
          "histogram": [
           {
            "marker": {
             "pattern": {
              "fillmode": "overlay",
              "size": 10,
              "solidity": 0.2
             }
            },
            "type": "histogram"
           }
          ],
          "histogram2d": [
           {
            "colorbar": {
             "outlinewidth": 0,
             "ticks": ""
            },
            "colorscale": [
             [
              0,
              "#0d0887"
             ],
             [
              0.1111111111111111,
              "#46039f"
             ],
             [
              0.2222222222222222,
              "#7201a8"
             ],
             [
              0.3333333333333333,
              "#9c179e"
             ],
             [
              0.4444444444444444,
              "#bd3786"
             ],
             [
              0.5555555555555556,
              "#d8576b"
             ],
             [
              0.6666666666666666,
              "#ed7953"
             ],
             [
              0.7777777777777778,
              "#fb9f3a"
             ],
             [
              0.8888888888888888,
              "#fdca26"
             ],
             [
              1,
              "#f0f921"
             ]
            ],
            "type": "histogram2d"
           }
          ],
          "histogram2dcontour": [
           {
            "colorbar": {
             "outlinewidth": 0,
             "ticks": ""
            },
            "colorscale": [
             [
              0,
              "#0d0887"
             ],
             [
              0.1111111111111111,
              "#46039f"
             ],
             [
              0.2222222222222222,
              "#7201a8"
             ],
             [
              0.3333333333333333,
              "#9c179e"
             ],
             [
              0.4444444444444444,
              "#bd3786"
             ],
             [
              0.5555555555555556,
              "#d8576b"
             ],
             [
              0.6666666666666666,
              "#ed7953"
             ],
             [
              0.7777777777777778,
              "#fb9f3a"
             ],
             [
              0.8888888888888888,
              "#fdca26"
             ],
             [
              1,
              "#f0f921"
             ]
            ],
            "type": "histogram2dcontour"
           }
          ],
          "mesh3d": [
           {
            "colorbar": {
             "outlinewidth": 0,
             "ticks": ""
            },
            "type": "mesh3d"
           }
          ],
          "parcoords": [
           {
            "line": {
             "colorbar": {
              "outlinewidth": 0,
              "ticks": ""
             }
            },
            "type": "parcoords"
           }
          ],
          "pie": [
           {
            "automargin": true,
            "type": "pie"
           }
          ],
          "scatter": [
           {
            "fillpattern": {
             "fillmode": "overlay",
             "size": 10,
             "solidity": 0.2
            },
            "type": "scatter"
           }
          ],
          "scatter3d": [
           {
            "line": {
             "colorbar": {
              "outlinewidth": 0,
              "ticks": ""
             }
            },
            "marker": {
             "colorbar": {
              "outlinewidth": 0,
              "ticks": ""
             }
            },
            "type": "scatter3d"
           }
          ],
          "scattercarpet": [
           {
            "marker": {
             "colorbar": {
              "outlinewidth": 0,
              "ticks": ""
             }
            },
            "type": "scattercarpet"
           }
          ],
          "scattergeo": [
           {
            "marker": {
             "colorbar": {
              "outlinewidth": 0,
              "ticks": ""
             }
            },
            "type": "scattergeo"
           }
          ],
          "scattergl": [
           {
            "marker": {
             "colorbar": {
              "outlinewidth": 0,
              "ticks": ""
             }
            },
            "type": "scattergl"
           }
          ],
          "scattermapbox": [
           {
            "marker": {
             "colorbar": {
              "outlinewidth": 0,
              "ticks": ""
             }
            },
            "type": "scattermapbox"
           }
          ],
          "scatterpolar": [
           {
            "marker": {
             "colorbar": {
              "outlinewidth": 0,
              "ticks": ""
             }
            },
            "type": "scatterpolar"
           }
          ],
          "scatterpolargl": [
           {
            "marker": {
             "colorbar": {
              "outlinewidth": 0,
              "ticks": ""
             }
            },
            "type": "scatterpolargl"
           }
          ],
          "scatterternary": [
           {
            "marker": {
             "colorbar": {
              "outlinewidth": 0,
              "ticks": ""
             }
            },
            "type": "scatterternary"
           }
          ],
          "surface": [
           {
            "colorbar": {
             "outlinewidth": 0,
             "ticks": ""
            },
            "colorscale": [
             [
              0,
              "#0d0887"
             ],
             [
              0.1111111111111111,
              "#46039f"
             ],
             [
              0.2222222222222222,
              "#7201a8"
             ],
             [
              0.3333333333333333,
              "#9c179e"
             ],
             [
              0.4444444444444444,
              "#bd3786"
             ],
             [
              0.5555555555555556,
              "#d8576b"
             ],
             [
              0.6666666666666666,
              "#ed7953"
             ],
             [
              0.7777777777777778,
              "#fb9f3a"
             ],
             [
              0.8888888888888888,
              "#fdca26"
             ],
             [
              1,
              "#f0f921"
             ]
            ],
            "type": "surface"
           }
          ],
          "table": [
           {
            "cells": {
             "fill": {
              "color": "#EBF0F8"
             },
             "line": {
              "color": "white"
             }
            },
            "header": {
             "fill": {
              "color": "#C8D4E3"
             },
             "line": {
              "color": "white"
             }
            },
            "type": "table"
           }
          ]
         },
         "layout": {
          "annotationdefaults": {
           "arrowcolor": "#2a3f5f",
           "arrowhead": 0,
           "arrowwidth": 1
          },
          "autotypenumbers": "strict",
          "coloraxis": {
           "colorbar": {
            "outlinewidth": 0,
            "ticks": ""
           }
          },
          "colorscale": {
           "diverging": [
            [
             0,
             "#8e0152"
            ],
            [
             0.1,
             "#c51b7d"
            ],
            [
             0.2,
             "#de77ae"
            ],
            [
             0.3,
             "#f1b6da"
            ],
            [
             0.4,
             "#fde0ef"
            ],
            [
             0.5,
             "#f7f7f7"
            ],
            [
             0.6,
             "#e6f5d0"
            ],
            [
             0.7,
             "#b8e186"
            ],
            [
             0.8,
             "#7fbc41"
            ],
            [
             0.9,
             "#4d9221"
            ],
            [
             1,
             "#276419"
            ]
           ],
           "sequential": [
            [
             0,
             "#0d0887"
            ],
            [
             0.1111111111111111,
             "#46039f"
            ],
            [
             0.2222222222222222,
             "#7201a8"
            ],
            [
             0.3333333333333333,
             "#9c179e"
            ],
            [
             0.4444444444444444,
             "#bd3786"
            ],
            [
             0.5555555555555556,
             "#d8576b"
            ],
            [
             0.6666666666666666,
             "#ed7953"
            ],
            [
             0.7777777777777778,
             "#fb9f3a"
            ],
            [
             0.8888888888888888,
             "#fdca26"
            ],
            [
             1,
             "#f0f921"
            ]
           ],
           "sequentialminus": [
            [
             0,
             "#0d0887"
            ],
            [
             0.1111111111111111,
             "#46039f"
            ],
            [
             0.2222222222222222,
             "#7201a8"
            ],
            [
             0.3333333333333333,
             "#9c179e"
            ],
            [
             0.4444444444444444,
             "#bd3786"
            ],
            [
             0.5555555555555556,
             "#d8576b"
            ],
            [
             0.6666666666666666,
             "#ed7953"
            ],
            [
             0.7777777777777778,
             "#fb9f3a"
            ],
            [
             0.8888888888888888,
             "#fdca26"
            ],
            [
             1,
             "#f0f921"
            ]
           ]
          },
          "colorway": [
           "#636efa",
           "#EF553B",
           "#00cc96",
           "#ab63fa",
           "#FFA15A",
           "#19d3f3",
           "#FF6692",
           "#B6E880",
           "#FF97FF",
           "#FECB52"
          ],
          "font": {
           "color": "#2a3f5f"
          },
          "geo": {
           "bgcolor": "white",
           "lakecolor": "white",
           "landcolor": "#E5ECF6",
           "showlakes": true,
           "showland": true,
           "subunitcolor": "white"
          },
          "hoverlabel": {
           "align": "left"
          },
          "hovermode": "closest",
          "mapbox": {
           "style": "light"
          },
          "paper_bgcolor": "white",
          "plot_bgcolor": "#E5ECF6",
          "polar": {
           "angularaxis": {
            "gridcolor": "white",
            "linecolor": "white",
            "ticks": ""
           },
           "bgcolor": "#E5ECF6",
           "radialaxis": {
            "gridcolor": "white",
            "linecolor": "white",
            "ticks": ""
           }
          },
          "scene": {
           "xaxis": {
            "backgroundcolor": "#E5ECF6",
            "gridcolor": "white",
            "gridwidth": 2,
            "linecolor": "white",
            "showbackground": true,
            "ticks": "",
            "zerolinecolor": "white"
           },
           "yaxis": {
            "backgroundcolor": "#E5ECF6",
            "gridcolor": "white",
            "gridwidth": 2,
            "linecolor": "white",
            "showbackground": true,
            "ticks": "",
            "zerolinecolor": "white"
           },
           "zaxis": {
            "backgroundcolor": "#E5ECF6",
            "gridcolor": "white",
            "gridwidth": 2,
            "linecolor": "white",
            "showbackground": true,
            "ticks": "",
            "zerolinecolor": "white"
           }
          },
          "shapedefaults": {
           "line": {
            "color": "#2a3f5f"
           }
          },
          "ternary": {
           "aaxis": {
            "gridcolor": "white",
            "linecolor": "white",
            "ticks": ""
           },
           "baxis": {
            "gridcolor": "white",
            "linecolor": "white",
            "ticks": ""
           },
           "bgcolor": "#E5ECF6",
           "caxis": {
            "gridcolor": "white",
            "linecolor": "white",
            "ticks": ""
           }
          },
          "title": {
           "x": 0.05
          },
          "xaxis": {
           "automargin": true,
           "gridcolor": "white",
           "linecolor": "white",
           "ticks": "",
           "title": {
            "standoff": 15
           },
           "zerolinecolor": "white",
           "zerolinewidth": 2
          },
          "yaxis": {
           "automargin": true,
           "gridcolor": "white",
           "linecolor": "white",
           "ticks": "",
           "title": {
            "standoff": 15
           },
           "zerolinecolor": "white",
           "zerolinewidth": 2
          }
         }
        },
        "xaxis": {
         "anchor": "y",
         "categoryarray": [
          "2024-10-11T00:00:00",
          "2024-10-10T00:00:00",
          "2024-10-09T00:00:00",
          "2024-10-08T00:00:00",
          "2024-10-06T00:00:00",
          "2024-10-07T00:00:00",
          "2024-10-04T00:00:00",
          "2024-09-18T00:00:00",
          "2024-09-17T00:00:00",
          "2024-09-20T00:00:00",
          "2024-10-03T00:00:00",
          "2024-09-30T00:00:00",
          "2024-10-02T00:00:00",
          "2024-09-12T00:00:00",
          "2024-09-28T00:00:00",
          "2024-09-10T00:00:00",
          "2024-08-17T00:00:00",
          "2024-09-13T00:00:00",
          "2024-09-25T00:00:00",
          "2024-08-13T00:00:00",
          "2024-09-15T00:00:00",
          "2024-08-15T00:00:00",
          "2024-10-05T00:00:00",
          "2024-09-26T00:00:00",
          "2024-08-29T00:00:00",
          "2024-09-14T00:00:00",
          "2024-09-23T00:00:00",
          "2024-09-27T00:00:00",
          "2024-09-09T00:00:00",
          "2024-08-24T00:00:00",
          "2024-08-14T00:00:00",
          "2024-08-20T00:00:00",
          "2024-09-07T00:00:00",
          "2024-09-29T00:00:00",
          "2024-09-24T00:00:00",
          "2024-09-22T00:00:00",
          "2024-09-05T00:00:00",
          "2024-10-01T00:00:00",
          "2024-09-19T00:00:00",
          "2024-07-20T00:00:00",
          "2024-07-14T00:00:00",
          "2024-08-04T00:00:00",
          "2024-08-02T00:00:00",
          "2024-09-06T00:00:00",
          "2024-08-10T00:00:00",
          "2024-09-02T00:00:00",
          "2024-09-16T00:00:00",
          "2024-08-08T00:00:00",
          "2024-09-04T00:00:00",
          "2024-08-07T00:00:00",
          "2024-08-11T00:00:00",
          "2024-09-11T00:00:00",
          "2024-08-12T00:00:00",
          "2024-09-03T00:00:00",
          "2024-08-23T00:00:00",
          "2024-07-21T00:00:00",
          "2024-08-05T00:00:00",
          "2024-07-15T00:00:00",
          "2024-08-16T00:00:00"
         ],
         "categoryorder": "array",
         "domain": [
          0,
          1
         ],
         "title": {
          "text": "date"
         }
        },
        "yaxis": {
         "anchor": "x",
         "domain": [
          0,
          1
         ],
         "title": {
          "text": "price"
         }
        }
       }
      }
     },
     "metadata": {},
     "output_type": "display_data"
    }
   ],
   "source": [
    "px.bar(df.loc[df['rooms'] == 1, ['date', 'price']], 'date', 'price', 'date')"
   ]
  },
  {
   "cell_type": "code",
   "execution_count": 276,
   "metadata": {},
   "outputs": [
    {
     "data": {
      "text/plain": [
       "<Axes: >"
      ]
     },
     "execution_count": 276,
     "metadata": {},
     "output_type": "execute_result"
    },
    {
     "data": {
      "image/png": "[encoded data removed]",
      "text/plain": [
       "<Figure size 640x480 with 2 Axes>"
      ]
     },
     "metadata": {},
     "output_type": "display_data"
    }
   ],
   "source": [
    "df['loc'] = le.fit_transform(df['loc'])\n",
    "df['category'] = le.fit_transform(df['category'])\n",
    "\n",
    "sns.heatmap(df.corr(), annot = True, fmt = '.2f', linewidths = 0.5, linecolor = 'black')"
   ]
  },
  {
   "cell_type": "markdown",
   "metadata": {},
   "source": [
    "Feature importances"
   ]
  },
  {
   "cell_type": "code",
   "execution_count": 277,
   "metadata": {},
   "outputs": [
    {
     "data": {
      "application/vnd.plotly.v1+json": {
       "config": {
        "plotlyServerURL": "https://plot.ly"
       },
       "data": [
        {
         "alignmentgroup": "True",
         "hovertemplate": "Features=%{x}<br>Importances=%{y}<br>color=%{marker.color}<extra></extra>",
         "legendgroup": "",
         "marker": {
          "color": [
           0,
           549,
           128,
           0,
           381,
           469,
           618,
           494
          ],
          "coloraxis": "coloraxis",
          "pattern": {
           "shape": ""
          }
         },
         "name": "",
         "offsetgroup": "",
         "orientation": "v",
         "showlegend": false,
         "textposition": "auto",
         "type": "bar",
         "x": [
          "category",
          "gross",
          "rooms",
          "salons",
          "age",
          "floor",
          "days",
          "loc"
         ],
         "xaxis": "x",
         "y": [
          0,
          549,
          128,
          0,
          381,
          469,
          618,
          494
         ],
         "yaxis": "y"
        }
       ],
       "layout": {
        "barmode": "relative",
        "coloraxis": {
         "colorbar": {
          "title": {
           "text": "color"
          }
         },
         "colorscale": [
          [
           0,
           "#0d0887"
          ],
          [
           0.1111111111111111,
           "#46039f"
          ],
          [
           0.2222222222222222,
           "#7201a8"
          ],
          [
           0.3333333333333333,
           "#9c179e"
          ],
          [
           0.4444444444444444,
           "#bd3786"
          ],
          [
           0.5555555555555556,
           "#d8576b"
          ],
          [
           0.6666666666666666,
           "#ed7953"
          ],
          [
           0.7777777777777778,
           "#fb9f3a"
          ],
          [
           0.8888888888888888,
           "#fdca26"
          ],
          [
           1,
           "#f0f921"
          ]
         ]
        },
        "legend": {
         "tracegroupgap": 0
        },
        "margin": {
         "t": 60
        },
        "template": {
         "data": {
          "bar": [
           {
            "error_x": {
             "color": "#2a3f5f"
            },
            "error_y": {
             "color": "#2a3f5f"
            },
            "marker": {
             "line": {
              "color": "#E5ECF6",
              "width": 0.5
             },
             "pattern": {
              "fillmode": "overlay",
              "size": 10,
              "solidity": 0.2
             }
            },
            "type": "bar"
           }
          ],
          "barpolar": [
           {
            "marker": {
             "line": {
              "color": "#E5ECF6",
              "width": 0.5
             },
             "pattern": {
              "fillmode": "overlay",
              "size": 10,
              "solidity": 0.2
             }
            },
            "type": "barpolar"
           }
          ],
          "carpet": [
           {
            "aaxis": {
             "endlinecolor": "#2a3f5f",
             "gridcolor": "white",
             "linecolor": "white",
             "minorgridcolor": "white",
             "startlinecolor": "#2a3f5f"
            },
            "baxis": {
             "endlinecolor": "#2a3f5f",
             "gridcolor": "white",
             "linecolor": "white",
             "minorgridcolor": "white",
             "startlinecolor": "#2a3f5f"
            },
            "type": "carpet"
           }
          ],
          "choropleth": [
           {
            "colorbar": {
             "outlinewidth": 0,
             "ticks": ""
            },
            "type": "choropleth"
           }
          ],
          "contour": [
           {
            "colorbar": {
             "outlinewidth": 0,
             "ticks": ""
            },
            "colorscale": [
             [
              0,
              "#0d0887"
             ],
             [
              0.1111111111111111,
              "#46039f"
             ],
             [
              0.2222222222222222,
              "#7201a8"
             ],
             [
              0.3333333333333333,
              "#9c179e"
             ],
             [
              0.4444444444444444,
              "#bd3786"
             ],
             [
              0.5555555555555556,
              "#d8576b"
             ],
             [
              0.6666666666666666,
              "#ed7953"
             ],
             [
              0.7777777777777778,
              "#fb9f3a"
             ],
             [
              0.8888888888888888,
              "#fdca26"
             ],
             [
              1,
              "#f0f921"
             ]
            ],
            "type": "contour"
           }
          ],
          "contourcarpet": [
           {
            "colorbar": {
             "outlinewidth": 0,
             "ticks": ""
            },
            "type": "contourcarpet"
           }
          ],
          "heatmap": [
           {
            "colorbar": {
             "outlinewidth": 0,
             "ticks": ""
            },
            "colorscale": [
             [
              0,
              "#0d0887"
             ],
             [
              0.1111111111111111,
              "#46039f"
             ],
             [
              0.2222222222222222,
              "#7201a8"
             ],
             [
              0.3333333333333333,
              "#9c179e"
             ],
             [
              0.4444444444444444,
              "#bd3786"
             ],
             [
              0.5555555555555556,
              "#d8576b"
             ],
             [
              0.6666666666666666,
              "#ed7953"
             ],
             [
              0.7777777777777778,
              "#fb9f3a"
             ],
             [
              0.8888888888888888,
              "#fdca26"
             ],
             [
              1,
              "#f0f921"
             ]
            ],
            "type": "heatmap"
           }
          ],
          "heatmapgl": [
           {
            "colorbar": {
             "outlinewidth": 0,
             "ticks": ""
            },
            "colorscale": [
             [
              0,
              "#0d0887"
             ],
             [
              0.1111111111111111,
              "#46039f"
             ],
             [
              0.2222222222222222,
              "#7201a8"
             ],
             [
              0.3333333333333333,
              "#9c179e"
             ],
             [
              0.4444444444444444,
              "#bd3786"
             ],
             [
              0.5555555555555556,
              "#d8576b"
             ],
             [
              0.6666666666666666,
              "#ed7953"
             ],
             [
              0.7777777777777778,
              "#fb9f3a"
             ],
             [
              0.8888888888888888,
              "#fdca26"
             ],
             [
              1,
              "#f0f921"
             ]
            ],
            "type": "heatmapgl"
           }
          ],
          "histogram": [
           {
            "marker": {
             "pattern": {
              "fillmode": "overlay",
              "size": 10,
              "solidity": 0.2
             }
            },
            "type": "histogram"
           }
          ],
          "histogram2d": [
           {
            "colorbar": {
             "outlinewidth": 0,
             "ticks": ""
            },
            "colorscale": [
             [
              0,
              "#0d0887"
             ],
             [
              0.1111111111111111,
              "#46039f"
             ],
             [
              0.2222222222222222,
              "#7201a8"
             ],
             [
              0.3333333333333333,
              "#9c179e"
             ],
             [
              0.4444444444444444,
              "#bd3786"
             ],
             [
              0.5555555555555556,
              "#d8576b"
             ],
             [
              0.6666666666666666,
              "#ed7953"
             ],
             [
              0.7777777777777778,
              "#fb9f3a"
             ],
             [
              0.8888888888888888,
              "#fdca26"
             ],
             [
              1,
              "#f0f921"
             ]
            ],
            "type": "histogram2d"
           }
          ],
          "histogram2dcontour": [
           {
            "colorbar": {
             "outlinewidth": 0,
             "ticks": ""
            },
            "colorscale": [
             [
              0,
              "#0d0887"
             ],
             [
              0.1111111111111111,
              "#46039f"
             ],
             [
              0.2222222222222222,
              "#7201a8"
             ],
             [
              0.3333333333333333,
              "#9c179e"
             ],
             [
              0.4444444444444444,
              "#bd3786"
             ],
             [
              0.5555555555555556,
              "#d8576b"
             ],
             [
              0.6666666666666666,
              "#ed7953"
             ],
             [
              0.7777777777777778,
              "#fb9f3a"
             ],
             [
              0.8888888888888888,
              "#fdca26"
             ],
             [
              1,
              "#f0f921"
             ]
            ],
            "type": "histogram2dcontour"
           }
          ],
          "mesh3d": [
           {
            "colorbar": {
             "outlinewidth": 0,
             "ticks": ""
            },
            "type": "mesh3d"
           }
          ],
          "parcoords": [
           {
            "line": {
             "colorbar": {
              "outlinewidth": 0,
              "ticks": ""
             }
            },
            "type": "parcoords"
           }
          ],
          "pie": [
           {
            "automargin": true,
            "type": "pie"
           }
          ],
          "scatter": [
           {
            "fillpattern": {
             "fillmode": "overlay",
             "size": 10,
             "solidity": 0.2
            },
            "type": "scatter"
           }
          ],
          "scatter3d": [
           {
            "line": {
             "colorbar": {
              "outlinewidth": 0,
              "ticks": ""
             }
            },
            "marker": {
             "colorbar": {
              "outlinewidth": 0,
              "ticks": ""
             }
            },
            "type": "scatter3d"
           }
          ],
          "scattercarpet": [
           {
            "marker": {
             "colorbar": {
              "outlinewidth": 0,
              "ticks": ""
             }
            },
            "type": "scattercarpet"
           }
          ],
          "scattergeo": [
           {
            "marker": {
             "colorbar": {
              "outlinewidth": 0,
              "ticks": ""
             }
            },
            "type": "scattergeo"
           }
          ],
          "scattergl": [
           {
            "marker": {
             "colorbar": {
              "outlinewidth": 0,
              "ticks": ""
             }
            },
            "type": "scattergl"
           }
          ],
          "scattermapbox": [
           {
            "marker": {
             "colorbar": {
              "outlinewidth": 0,
              "ticks": ""
             }
            },
            "type": "scattermapbox"
           }
          ],
          "scatterpolar": [
           {
            "marker": {
             "colorbar": {
              "outlinewidth": 0,
              "ticks": ""
             }
            },
            "type": "scatterpolar"
           }
          ],
          "scatterpolargl": [
           {
            "marker": {
             "colorbar": {
              "outlinewidth": 0,
              "ticks": ""
             }
            },
            "type": "scatterpolargl"
           }
          ],
          "scatterternary": [
           {
            "marker": {
             "colorbar": {
              "outlinewidth": 0,
              "ticks": ""
             }
            },
            "type": "scatterternary"
           }
          ],
          "surface": [
           {
            "colorbar": {
             "outlinewidth": 0,
             "ticks": ""
            },
            "colorscale": [
             [
              0,
              "#0d0887"
             ],
             [
              0.1111111111111111,
              "#46039f"
             ],
             [
              0.2222222222222222,
              "#7201a8"
             ],
             [
              0.3333333333333333,
              "#9c179e"
             ],
             [
              0.4444444444444444,
              "#bd3786"
             ],
             [
              0.5555555555555556,
              "#d8576b"
             ],
             [
              0.6666666666666666,
              "#ed7953"
             ],
             [
              0.7777777777777778,
              "#fb9f3a"
             ],
             [
              0.8888888888888888,
              "#fdca26"
             ],
             [
              1,
              "#f0f921"
             ]
            ],
            "type": "surface"
           }
          ],
          "table": [
           {
            "cells": {
             "fill": {
              "color": "#EBF0F8"
             },
             "line": {
              "color": "white"
             }
            },
            "header": {
             "fill": {
              "color": "#C8D4E3"
             },
             "line": {
              "color": "white"
             }
            },
            "type": "table"
           }
          ]
         },
         "layout": {
          "annotationdefaults": {
           "arrowcolor": "#2a3f5f",
           "arrowhead": 0,
           "arrowwidth": 1
          },
          "autotypenumbers": "strict",
          "coloraxis": {
           "colorbar": {
            "outlinewidth": 0,
            "ticks": ""
           }
          },
          "colorscale": {
           "diverging": [
            [
             0,
             "#8e0152"
            ],
            [
             0.1,
             "#c51b7d"
            ],
            [
             0.2,
             "#de77ae"
            ],
            [
             0.3,
             "#f1b6da"
            ],
            [
             0.4,
             "#fde0ef"
            ],
            [
             0.5,
             "#f7f7f7"
            ],
            [
             0.6,
             "#e6f5d0"
            ],
            [
             0.7,
             "#b8e186"
            ],
            [
             0.8,
             "#7fbc41"
            ],
            [
             0.9,
             "#4d9221"
            ],
            [
             1,
             "#276419"
            ]
           ],
           "sequential": [
            [
             0,
             "#0d0887"
            ],
            [
             0.1111111111111111,
             "#46039f"
            ],
            [
             0.2222222222222222,
             "#7201a8"
            ],
            [
             0.3333333333333333,
             "#9c179e"
            ],
            [
             0.4444444444444444,
             "#bd3786"
            ],
            [
             0.5555555555555556,
             "#d8576b"
            ],
            [
             0.6666666666666666,
             "#ed7953"
            ],
            [
             0.7777777777777778,
             "#fb9f3a"
            ],
            [
             0.8888888888888888,
             "#fdca26"
            ],
            [
             1,
             "#f0f921"
            ]
           ],
           "sequentialminus": [
            [
             0,
             "#0d0887"
            ],
            [
             0.1111111111111111,
             "#46039f"
            ],
            [
             0.2222222222222222,
             "#7201a8"
            ],
            [
             0.3333333333333333,
             "#9c179e"
            ],
            [
             0.4444444444444444,
             "#bd3786"
            ],
            [
             0.5555555555555556,
             "#d8576b"
            ],
            [
             0.6666666666666666,
             "#ed7953"
            ],
            [
             0.7777777777777778,
             "#fb9f3a"
            ],
            [
             0.8888888888888888,
             "#fdca26"
            ],
            [
             1,
             "#f0f921"
            ]
           ]
          },
          "colorway": [
           "#636efa",
           "#EF553B",
           "#00cc96",
           "#ab63fa",
           "#FFA15A",
           "#19d3f3",
           "#FF6692",
           "#B6E880",
           "#FF97FF",
           "#FECB52"
          ],
          "font": {
           "color": "#2a3f5f"
          },
          "geo": {
           "bgcolor": "white",
           "lakecolor": "white",
           "landcolor": "#E5ECF6",
           "showlakes": true,
           "showland": true,
           "subunitcolor": "white"
          },
          "hoverlabel": {
           "align": "left"
          },
          "hovermode": "closest",
          "mapbox": {
           "style": "light"
          },
          "paper_bgcolor": "white",
          "plot_bgcolor": "#E5ECF6",
          "polar": {
           "angularaxis": {
            "gridcolor": "white",
            "linecolor": "white",
            "ticks": ""
           },
           "bgcolor": "#E5ECF6",
           "radialaxis": {
            "gridcolor": "white",
            "linecolor": "white",
            "ticks": ""
           }
          },
          "scene": {
           "xaxis": {
            "backgroundcolor": "#E5ECF6",
            "gridcolor": "white",
            "gridwidth": 2,
            "linecolor": "white",
            "showbackground": true,
            "ticks": "",
            "zerolinecolor": "white"
           },
           "yaxis": {
            "backgroundcolor": "#E5ECF6",
            "gridcolor": "white",
            "gridwidth": 2,
            "linecolor": "white",
            "showbackground": true,
            "ticks": "",
            "zerolinecolor": "white"
           },
           "zaxis": {
            "backgroundcolor": "#E5ECF6",
            "gridcolor": "white",
            "gridwidth": 2,
            "linecolor": "white",
            "showbackground": true,
            "ticks": "",
            "zerolinecolor": "white"
           }
          },
          "shapedefaults": {
           "line": {
            "color": "#2a3f5f"
           }
          },
          "ternary": {
           "aaxis": {
            "gridcolor": "white",
            "linecolor": "white",
            "ticks": ""
           },
           "baxis": {
            "gridcolor": "white",
            "linecolor": "white",
            "ticks": ""
           },
           "bgcolor": "#E5ECF6",
           "caxis": {
            "gridcolor": "white",
            "linecolor": "white",
            "ticks": ""
           }
          },
          "title": {
           "x": 0.05
          },
          "xaxis": {
           "automargin": true,
           "gridcolor": "white",
           "linecolor": "white",
           "ticks": "",
           "title": {
            "standoff": 15
           },
           "zerolinecolor": "white",
           "zerolinewidth": 2
          },
          "yaxis": {
           "automargin": true,
           "gridcolor": "white",
           "linecolor": "white",
           "ticks": "",
           "title": {
            "standoff": 15
           },
           "zerolinecolor": "white",
           "zerolinewidth": 2
          }
         }
        },
        "xaxis": {
         "anchor": "y",
         "domain": [
          0,
          1
         ],
         "title": {
          "text": "Features"
         }
        },
        "yaxis": {
         "anchor": "x",
         "domain": [
          0,
          1
         ],
         "title": {
          "text": "Importances"
         }
        }
       }
      }
     },
     "metadata": {},
     "output_type": "display_data"
    }
   ],
   "source": [
    "X = df.drop(columns = ['price', 'date'])\n",
    "y = df['price']\n",
    "\n",
    "importances = lgbm.fit(X, y).feature_importances_\n",
    "features = df.drop(columns = ['price', 'date']).columns\n",
    "px.bar(x = features, y = importances, labels = {'x': 'Features', 'y': 'Importances'}, color = importances)"
   ]
  }
 ],
 "metadata": {
  "kernelspec": {
   "display_name": "Python 3",
   "language": "python",
   "name": "python3"
  },
  "language_info": {
   "codemirror_mode": {
    "name": "ipython",
    "version": 3
   },
   "file_extension": ".py",
   "mimetype": "text/x-python",
   "name": "python",
   "nbconvert_exporter": "python",
   "pygments_lexer": "ipython3",
   "version": "3.13.0"
  }
 },
 "nbformat": 4,
 "nbformat_minor": 2
}
