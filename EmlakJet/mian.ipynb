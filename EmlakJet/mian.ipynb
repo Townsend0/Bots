{
 "cells": [
  {
   "cell_type": "code",
   "execution_count": 1,
   "metadata": {},
   "outputs": [],
   "source": [
    "from selenium import webdriver\n",
    "from selenium.webdriver.common.by import By\n",
    "import pandas as pd"
   ]
  },
  {
   "cell_type": "code",
   "execution_count": 2,
   "metadata": {},
   "outputs": [],
   "source": [
    "df = pd.DataFrame(columns = ['category', 'room', 'floor', 'gross', 'updated', 'price', 'location'])"
   ]
  },
  {
   "cell_type": "code",
   "execution_count": 3,
   "metadata": {},
   "outputs": [],
   "source": [
    "driver = webdriver.Firefox()\n",
    "driver.get('https://www.emlakjet.com/kiralik-konut/izmir/2/')"
   ]
  },
  {
   "cell_type": "code",
   "execution_count": 4,
   "metadata": {},
   "outputs": [],
   "source": [
    "while True:\n",
    "    houses = driver.find_elements(By.CSS_SELECTOR, 'div._3qUI9q')\n",
    "    \n",
    "    for house in houses:\n",
    "        \n",
    "        try:\n",
    "            floor = house.find_element(By.CSS_SELECTOR, '[data-test-selector*=\"floor\"]').text.split('\\n')[1]\n",
    "        except:\n",
    "            floor = None\n",
    "            \n",
    "        category = house.find_element(By.CSS_SELECTOR, '[data-test-selector*=\"category\"]').text.split('\\n')[1]\n",
    "        room = house.find_element(By.CSS_SELECTOR, '[data-test-selector*=\"room\"]').text.split('\\n')[1]\n",
    "        gross = house.find_element(By.CSS_SELECTOR, '[data-test-selector*=\"gross\"]').text.split('\\n')[1]\n",
    "        updated = house.find_element(By.CSS_SELECTOR, '[data-test-selector*=\"updated\"]').text.split('\\n')[1]\n",
    "        price = house.find_element(By.CSS_SELECTOR, 'div._3Q-7xT').text.split('\\n')[0]\n",
    "        location = house.find_element(By.CSS_SELECTOR, 'div._2wVG12').text\n",
    "        \n",
    "        df = pd.concat(\n",
    "            [\n",
    "                df, \n",
    "                pd.DataFrame(\n",
    "                    dict(\n",
    "                        category = [category],\n",
    "                        room = [room],\n",
    "                        floor = [floor],\n",
    "                        gross = [gross],\n",
    "                        updated = [updated],\n",
    "                        price = [price],\n",
    "                        location = [location]\n",
    "                    )\n",
    "                )\n",
    "            ], ignore_index = True\n",
    "        )        \n",
    "    \n",
    "    try:\n",
    "        driver.find_element(By.LINK_TEXT, 'Sonraki\\nnavigate_next').click()\n",
    "    except:\n",
    "        driver.quit()\n",
    "        break"
   ]
  },
  {
   "cell_type": "code",
   "execution_count": 5,
   "metadata": {},
   "outputs": [],
   "source": [
    "df.to_csv('emlakjet.csv', index = False)"
   ]
  }
 ],
 "metadata": {
  "kernelspec": {
   "display_name": "Python 3",
   "language": "python",
   "name": "python3"
  },
  "language_info": {
   "codemirror_mode": {
    "name": "ipython",
    "version": 3
   },
   "file_extension": ".py",
   "mimetype": "text/x-python",
   "name": "python",
   "nbconvert_exporter": "python",
   "pygments_lexer": "ipython3",
   "version": "3.12.6"
  }
 },
 "nbformat": 4,
 "nbformat_minor": 2
}
